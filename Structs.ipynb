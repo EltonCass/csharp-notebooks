{
 "cells": [
  {
   "attachments": {},
   "cell_type": "markdown",
   "metadata": {},
   "source": [
    "# Structs"
   ]
  },
  {
   "cell_type": "code",
   "execution_count": null,
   "metadata": {
    "dotnet_interactive": {
     "language": "csharp"
    },
    "polyglot_notebook": {
     "kernelName": "csharp"
    }
   },
   "outputs": [],
   "source": [
    "public struct Point\n",
    "{\n",
    "    public int X;\n",
    "    public int Y;\n",
    "\n",
    "    public Point(int x, int y)\n",
    "    {\n",
    "        X = x;\n",
    "        Y = y;\n",
    "    }\n",
    "\n",
    "    public void Display()\n",
    "    {\n",
    "        Console.WriteLine($\"Point: ({X}, {Y})\");\n",
    "    }\n",
    "}\n",
    "\n",
    "Point p1 = new Point(10, 20);\n",
    "Point p2 = p1; // p2 gets a copy of p1's values\n",
    "\n",
    "p1.Display(); // Output: Point: (10, 20)\n",
    "p2.Display(); // Output: Point: (10, 20)\n",
    "\n",
    "p1.X = 30;\n",
    "\n",
    "p1.Display(); // Output: Point: (30, 20)\n",
    "p2.Display(); // Output: Point: (10, 20)"
   ]
  },
  {
   "attachments": {},
   "cell_type": "markdown",
   "metadata": {},
   "source": [
    "## Readonly structs"
   ]
  },
  {
   "cell_type": "code",
   "execution_count": null,
   "metadata": {
    "dotnet_interactive": {
     "language": "csharp"
    },
    "polyglot_notebook": {
     "kernelName": "csharp"
    }
   },
   "outputs": [],
   "source": [
    "public readonly struct Measurement\n",
    "{\n",
    "    public Measurement()\n",
    "    {\n",
    "        Value = double.NaN;\n",
    "        Description = \"Undefined\";\n",
    "    }\n",
    "\n",
    "    public Measurement(double value, string description)\n",
    "    {\n",
    "        Value = value;\n",
    "        Description = description;\n",
    "    }\n",
    "\n",
    "    public double Value { get; init; }\n",
    "    public string Description { get; init; }\n",
    "\n",
    "    public override string ToString() => $\"{Value} ({Description})\";\n",
    "}\n",
    "\n",
    "var m1 = new Measurement();\n",
    "Console.WriteLine(m1);  // output: NaN (Undefined)\n",
    "\n",
    "var m2 = default(Measurement);\n",
    "Console.WriteLine(m2);  // output: 0 ()\n",
    "\n",
    "var ms = new Measurement[2];\n",
    "Console.WriteLine(string.Join(\", \", ms));  // output: 0 (), 0 ()"
   ]
  }
 ],
 "metadata": {
  "kernelspec": {
   "display_name": ".NET (C#)",
   "language": "C#",
   "name": ".net-csharp"
  },
  "language_info": {
   "name": "polyglot-notebook"
  },
  "polyglot_notebook": {
   "kernelInfo": {
    "defaultKernelName": "csharp",
    "items": [
     {
      "aliases": [
       "C#",
       "c#"
      ],
      "languageName": "C#",
      "name": "csharp"
     },
     {
      "aliases": [
       "frontend"
      ],
      "name": "vscode"
     }
    ]
   }
  }
 },
 "nbformat": 4,
 "nbformat_minor": 2
}
