{
 "cells": [
  {
   "attachments": {},
   "cell_type": "markdown",
   "metadata": {},
   "source": [
    "# Interfaces\n",
    "\n",
    "An interface in C# is a programming construct that defines a contract or a set of methods and properties that a class must implement. It specifies the behavior that a class should exhibit without specifying how that behavior should be implemented. An interface defines the \"what\" of a class rather than the \"how\"."
   ]
  },
  {
   "cell_type": "code",
   "execution_count": 7,
   "metadata": {
    "dotnet_interactive": {
     "language": "csharp"
    },
    "polyglot_notebook": {
     "kernelName": "csharp"
    }
   },
   "outputs": [
    {
     "name": "stdout",
     "output_type": "stream",
     "text": [
      "Submission#8+ServiceRepository\n",
      "Submission#8+CSVRepository\n",
      "Submission#8+SQLRepository\n"
     ]
    }
   ],
   "source": [
    "record Person(string Name, int Age, int Id);\n",
    "\n",
    "interface IPersonRepository\n",
    "{\n",
    "    void SavePerson(Person person);\n",
    "    Person GetPerson(int Id);\n",
    "}\n",
    "\n",
    "class ServiceRepository: IPersonRepository\n",
    "{\n",
    "    public void SavePerson(Person person)\n",
    "    {\n",
    "        //Logic to save the person in memory\n",
    "    }\n",
    "\n",
    "    public Person GetPerson(int id) \n",
    "    {\n",
    "        // Logic to retreive person from memory\n",
    "        return new Person(\"\", 10, 1);\n",
    "    }\n",
    "}\n",
    "\n",
    "class CSVRepository: IPersonRepository\n",
    "{\n",
    "    public void SavePerson(Person person)\n",
    "    {\n",
    "        //Logic to save the person in CSV file\n",
    "    }\n",
    "\n",
    "    public Person GetPerson(int id) \n",
    "    {\n",
    "        // Logic to retreive person from CSV\n",
    "        return new Person(\"\", 10, 1);\n",
    "    }\n",
    "}\n",
    "\n",
    "class SQLRepository: IPersonRepository\n",
    "{\n",
    "    public void SavePerson(Person person)\n",
    "    {\n",
    "        //Logic to save the person in Database file\n",
    "    }\n",
    "\n",
    "    public Person GetPerson(int id) \n",
    "    {\n",
    "        // Logic to retreive person from Database\n",
    "        return new Person(\"\", 10, 1);\n",
    "    }\n",
    "}\n",
    "\n",
    "IPersonRepository GetRepository(string repositoryType)\n",
    "{\n",
    "    IPersonRepository repository = null;\n",
    "\n",
    "    switch(repositoryType) \n",
    "    {\n",
    "        case \"Service\": repository = new ServiceRepository();\n",
    "        break;\n",
    "        case \"CSV\": repository = new CSVRepository();\n",
    "        break;\n",
    "        case \"SQL\": repository = new SQLRepository();\n",
    "        break;\n",
    "    }\n",
    "\n",
    "    return repository;\n",
    "}\n",
    "\n",
    "var serv = GetRepository(\"Service\");\n",
    "var csvService= GetRepository(\"CSV\");\n",
    "var sqlService = GetRepository(\"SQL\");\n",
    "\n",
    "Console.WriteLine(serv);\n",
    "Console.WriteLine(csvService);\n",
    "Console.WriteLine(sqlService);"
   ]
  },
  {
   "attachments": {},
   "cell_type": "markdown",
   "metadata": {},
   "source": [
    "## Use default implementation"
   ]
  },
  {
   "cell_type": "code",
   "execution_count": 8,
   "metadata": {
    "dotnet_interactive": {
     "language": "csharp"
    },
    "polyglot_notebook": {
     "kernelName": "csharp"
    }
   },
   "outputs": [
    {
     "data": {
      "text/html": [
       "<div><div></div><div></div><div><strong>Installed Packages</strong><ul><li><span>Microsoft.Extensions.Logging, 7.0.0</span></li></ul></div></div>"
      ]
     },
     "metadata": {},
     "output_type": "display_data"
    }
   ],
   "source": [
    "#r \"nuget: Microsoft.Extensions.Logging\"\n",
    "\n",
    "using Microsoft.Extensions.Logging;\n",
    "\n",
    "public interface ILogger\n",
    "{\n",
    "    void Log(LogLevel level, string message);\n",
    "    void Log(Exception ex) => Log(LogLevel.Error, ex.ToString());\n",
    "}\n",
    "\n",
    "class ConsoleLogger : ILogger\n",
    "{\n",
    "    public void Log(LogLevel level, string message)\n",
    "    {\n",
    "\n",
    "    }\n",
    "}"
   ]
  }
 ],
 "metadata": {
  "kernelspec": {
   "display_name": ".NET (C#)",
   "language": "C#",
   "name": ".net-csharp"
  },
  "language_info": {
   "name": "polyglot-notebook"
  },
  "polyglot_notebook": {
   "kernelInfo": {
    "defaultKernelName": "csharp",
    "items": [
     {
      "aliases": [],
      "name": "csharp"
     },
     {
      "aliases": [
       "frontend"
      ],
      "name": "vscode"
     }
    ]
   }
  }
 },
 "nbformat": 4,
 "nbformat_minor": 2
}
