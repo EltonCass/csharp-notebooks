{
 "cells": [
  {
   "attachments": {},
   "cell_type": "markdown",
   "metadata": {},
   "source": [
    "# Interfaces"
   ]
  },
  {
   "cell_type": "code",
   "execution_count": 2,
   "metadata": {
    "dotnet_interactive": {
     "language": "csharp"
    },
    "polyglot_notebook": {
     "kernelName": "csharp"
    }
   },
   "outputs": [],
   "source": [
    "record Person(string Name, int Age, int Id);\n",
    "\n",
    "interface IPersonRepository\n",
    "{\n",
    "    void SavePerson(Person person);\n",
    "    Person GetPerson(int Id);\n",
    "}\n",
    "\n",
    "class ServiceRepository: IPersonRepository\n",
    "{\n",
    "    public void SavePerson(Person person)\n",
    "    {\n",
    "        //Logic to save the person in memory\n",
    "    }\n",
    "\n",
    "    public Person GetPerson(int id) \n",
    "    {\n",
    "        // Logic to retreive person from memory\n",
    "        return new Person(\"\", 10, 1);\n",
    "    }\n",
    "}\n",
    "\n",
    "class CSVRepository: IPersonRepository\n",
    "{\n",
    "    public void SavePerson(Person person)\n",
    "    {\n",
    "        //Logic to save the person in CSV file\n",
    "    }\n",
    "\n",
    "    public Person GetPerson(int id) \n",
    "    {\n",
    "        // Logic to retreive person from CSV\n",
    "        return new Person(\"\", 10, 1);\n",
    "    }\n",
    "}\n",
    "\n",
    "class SQLRepository: IPersonRepository\n",
    "{\n",
    "    public void SavePerson(Person person)\n",
    "    {\n",
    "        //Logic to save the person in Database file\n",
    "    }\n",
    "\n",
    "    public Person GetPerson(int id) \n",
    "    {\n",
    "        // Logic to retreive person from Database\n",
    "        return new Person(\"\", 10, 1);\n",
    "    }\n",
    "}\n",
    "\n",
    "IPersonRepository GetRepository(string repositoryType)\n",
    "{\n",
    "    IPersonRepository repository = null;\n",
    "\n",
    "    switch(repositoryType) \n",
    "    {\n",
    "        case \"Service\": repository = new ServiceRepository();\n",
    "        break;\n",
    "        case \"CSV\": repository = new CSVRepository();\n",
    "        break;\n",
    "        case \"SQL\": repository = new SQLRepository();\n",
    "        break;\n",
    "    }\n",
    "\n",
    "    return repository;\n",
    "}"
   ]
  }
 ],
 "metadata": {
  "kernelspec": {
   "display_name": ".NET (C#)",
   "language": "C#",
   "name": ".net-csharp"
  },
  "language_info": {
   "name": "polyglot-notebook"
  },
  "polyglot_notebook": {
   "kernelInfo": {
    "defaultKernelName": "csharp",
    "items": [
     {
      "aliases": [],
      "name": "csharp"
     },
     {
      "aliases": [
       "frontend"
      ],
      "name": "vscode"
     }
    ]
   }
  }
 },
 "nbformat": 4,
 "nbformat_minor": 2
}
