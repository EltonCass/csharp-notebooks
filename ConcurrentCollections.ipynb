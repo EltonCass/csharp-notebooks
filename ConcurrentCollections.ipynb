{
 "cells": [
  {
   "attachments": {},
   "cell_type": "markdown",
   "metadata": {},
   "source": [
    "# Concurrent and inmutable collections\n",
    "## Concurrent collections"
   ]
  },
  {
   "cell_type": "code",
   "execution_count": 2,
   "metadata": {
    "dotnet_interactive": {
     "language": "csharp"
    },
    "polyglot_notebook": {
     "kernelName": "csharp"
    },
    "vscode": {
     "languageId": "polyglot-notebook"
    }
   },
   "outputs": [
    {
     "name": "stdout",
     "output_type": "stream",
     "text": [
      "Updated stock price of AAPL to 150\n",
      "Updated stock price of MSFT to 300\n",
      "Updated stock price of GOOGL to 250\n",
      "Updated stock price of AMZN to 350\n",
      "Stock prices: AAPL - 150, GOOGL - 250, MSFT - 300, AMZN - 350\n"
     ]
    }
   ],
   "source": [
    "using System.Collections.Concurrent;\n",
    "\n",
    "public class StockExchange\n",
    "{\n",
    "    private ConcurrentDictionary<string, int> stockPrices = new ConcurrentDictionary<string, int>();\n",
    "\n",
    "    public void UpdateStockPrice(string stockSymbol, int newPrice)\n",
    "    {\n",
    "        stockPrices.AddOrUpdate(stockSymbol, newPrice, (symbol, oldPrice) => newPrice);\n",
    "        Console.WriteLine($\"Updated stock price of {stockSymbol} to {newPrice}\");\n",
    "    }\n",
    "\n",
    "    public int GetStockPrice(string stockSymbol)\n",
    "    {\n",
    "        return stockPrices.GetOrAdd(stockSymbol, 0);\n",
    "    }\n",
    "}\n",
    "\n",
    "StockExchange stockExchange = new StockExchange();\n",
    "\n",
    "// Simulate updating stock prices concurrently\n",
    "Parallel.Invoke(\n",
    "    () => stockExchange.UpdateStockPrice(\"AAPL\", 150),\n",
    "    () => stockExchange.UpdateStockPrice(\"GOOGL\", 250),\n",
    "    () => stockExchange.UpdateStockPrice(\"MSFT\", 300),\n",
    "    () => stockExchange.UpdateStockPrice(\"AMZN\", 350)\n",
    ");\n",
    "\n",
    "// Retrieve stock prices\n",
    "int applePrice = stockExchange.GetStockPrice(\"AAPL\");\n",
    "int googlePrice = stockExchange.GetStockPrice(\"GOOGL\");\n",
    "int microsoftPrice = stockExchange.GetStockPrice(\"MSFT\");\n",
    "int amazonPrice = stockExchange.GetStockPrice(\"AMZN\");\n",
    "\n",
    "Console.WriteLine($\"Stock prices: AAPL - {applePrice}, GOOGL - {googlePrice}, MSFT - {microsoftPrice}, AMZN - {amazonPrice}\");"
   ]
  },
  {
   "attachments": {},
   "cell_type": "markdown",
   "metadata": {},
   "source": [
    "## Inmutable Collections"
   ]
  },
  {
   "cell_type": "code",
   "execution_count": 3,
   "metadata": {
    "dotnet_interactive": {
     "language": "csharp"
    },
    "polyglot_notebook": {
     "kernelName": "csharp"
    },
    "vscode": {
     "languageId": "polyglot-notebook"
    }
   },
   "outputs": [
    {
     "name": "stdout",
     "output_type": "stream",
     "text": [
      "Shopping Cart Items:\n",
      "Product 1\n",
      "Product 2\n",
      "Product 3\n",
      "Shopping Cart Items:\n",
      "Product 1\n",
      "Product 3\n"
     ]
    }
   ],
   "source": [
    "using System.Collections.Immutable;\n",
    "\n",
    "public class ShoppingCart\n",
    "{\n",
    "    private ImmutableList<string> items = ImmutableList<string>.Empty;\n",
    "\n",
    "    public ShoppingCart AddItem(string item)\n",
    "    {\n",
    "        return new ShoppingCart { items = items.Add(item) };\n",
    "    }\n",
    "\n",
    "    public ShoppingCart RemoveItem(string item)\n",
    "    {\n",
    "        return new ShoppingCart { items = items.Remove(item) };\n",
    "    }\n",
    "\n",
    "    public void PrintItems()\n",
    "    {\n",
    "        Console.WriteLine(\"Shopping Cart Items:\");\n",
    "        foreach (var item in items)\n",
    "        {\n",
    "            Console.WriteLine(item);\n",
    "        }\n",
    "    }\n",
    "}\n",
    "\n",
    "ShoppingCart cart = new ShoppingCart();\n",
    "\n",
    "cart = cart.AddItem(\"Product 1\");\n",
    "cart = cart.AddItem(\"Product 2\");\n",
    "cart = cart.AddItem(\"Product 3\");\n",
    "\n",
    "cart.PrintItems();\n",
    "\n",
    "cart = cart.RemoveItem(\"Product 2\");\n",
    "\n",
    "cart.PrintItems();"
   ]
  }
 ],
 "metadata": {
  "language_info": {
   "name": "python"
  },
  "orig_nbformat": 4
 },
 "nbformat": 4,
 "nbformat_minor": 2
}
