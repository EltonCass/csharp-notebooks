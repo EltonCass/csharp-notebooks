{
 "cells": [
  {
   "attachments": {},
   "cell_type": "markdown",
   "metadata": {},
   "source": [
    "## Grouping\n",
    "When working with collections of custom objects, you may often need to group them based on certain criteria. The GroupBy method in LINQ provides a convenient way to group elements of a collection based on a specified key.\n",
    "\n",
    "To use the GroupBy method with custom classes, you need to define the key selector, which determines the grouping criterion. You can implement the IEqualityComparer<T> interface to provide custom equality comparison logic for grouping."
   ]
  },
  {
   "cell_type": "code",
   "execution_count": 11,
   "metadata": {
    "vscode": {
     "languageId": "polyglot-notebook"
    }
   },
   "outputs": [
    {
     "name": "stdout",
     "output_type": "stream",
     "text": [
      "Department: Sales\n",
      "Id: 1, Name: John Doe\n",
      "Id: 3, Name: Alice Johnson\n",
      "\n",
      "Department: HR\n",
      "Id: 2, Name: Jane Smith\n",
      "Id: 5, Name: Emily Brown\n",
      "\n",
      "Department: IT\n",
      "Id: 4, Name: Bob Williams\n",
      "\n"
     ]
    }
   ],
   "source": [
    "public class Employee : IEqualityComparer<Employee>\n",
    "{\n",
    "    public int Id { get; set; }\n",
    "    public string Name { get; set; }\n",
    "    public string Department { get; set; }\n",
    "\n",
    "    public bool Equals(Employee x, Employee y)\n",
    "    {\n",
    "        if (ReferenceEquals(x, y))\n",
    "            return true;\n",
    "\n",
    "        if (x is null || y is null)\n",
    "            return false;\n",
    "\n",
    "        return x.Id == y.Id && x.Name == y.Name && x.Department == y.Department;\n",
    "    }\n",
    "\n",
    "    public int GetHashCode(Employee obj)\n",
    "    {\n",
    "        return HashCode.Combine(obj.Id, obj.Name, obj.Department);\n",
    "    }\n",
    "}\n",
    "\n",
    " // Create a list of employees\n",
    "List<Employee> employees = new List<Employee>()\n",
    "{\n",
    "    new Employee { Id = 1, Name = \"John Doe\", Department = \"Sales\" },\n",
    "    new Employee { Id = 2, Name = \"Jane Smith\", Department = \"HR\" },\n",
    "    new Employee { Id = 3, Name = \"Alice Johnson\", Department = \"Sales\" },\n",
    "    new Employee { Id = 4, Name = \"Bob Williams\", Department = \"IT\" },\n",
    "    new Employee { Id = 5, Name = \"Emily Brown\", Department = \"HR\" }\n",
    "};\n",
    "\n",
    "// Group employees by department\n",
    "var groups = employees.GroupBy(e => e.Department);\n",
    "\n",
    "// Print the grouped employees\n",
    "foreach (var group in groups)\n",
    "{\n",
    "    Console.WriteLine($\"Department: {group.Key}\");\n",
    "    foreach (var employee in group)\n",
    "    {\n",
    "        Console.WriteLine($\"Id: {employee.Id}, Name: {employee.Name}\");\n",
    "    }\n",
    "    Console.WriteLine();\n",
    "}"
   ]
  }
 ],
 "metadata": {
  "language_info": {
   "name": "python"
  },
  "orig_nbformat": 4
 },
 "nbformat": 4,
 "nbformat_minor": 2
}
