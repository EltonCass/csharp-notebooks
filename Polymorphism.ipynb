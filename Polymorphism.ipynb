{
 "cells": [
  {
   "attachments": {},
   "cell_type": "markdown",
   "metadata": {},
   "source": [
    "# Polymorphism\n",
    "For more information check [here](https://www.studytonight.com/post/csharp-polymorphism)\n",
    "## Static Polymorphism (Compile time)"
   ]
  },
  {
   "cell_type": "code",
   "execution_count": 2,
   "metadata": {
    "dotnet_interactive": {
     "language": "csharp"
    },
    "polyglot_notebook": {
     "kernelName": "csharp"
    },
    "vscode": {
     "languageId": "polyglot-notebook"
    }
   },
   "outputs": [],
   "source": [
    "public class MathUtils\n",
    "{\n",
    "    public static int Add(int a, int b)\n",
    "    {\n",
    "        return a + b;\n",
    "    }\n",
    "\n",
    "    public static double Add(double a, double b)\n",
    "    {\n",
    "        return a + b;\n",
    "    }\n",
    "}\n",
    "\n",
    "// Usage\n",
    "int result1 = MathUtils.Add(5, 3);\n",
    "double result2 = MathUtils.Add(2.5, 4.7);\n"
   ]
  },
  {
   "attachments": {},
   "cell_type": "markdown",
   "metadata": {},
   "source": [
    "## Dynamic polymorphism"
   ]
  },
  {
   "cell_type": "code",
   "execution_count": 3,
   "metadata": {
    "dotnet_interactive": {
     "language": "csharp"
    },
    "polyglot_notebook": {
     "kernelName": "csharp"
    },
    "vscode": {
     "languageId": "polyglot-notebook"
    }
   },
   "outputs": [
    {
     "name": "stdout",
     "output_type": "stream",
     "text": [
      "Normal interest for a holder 5500\n",
      "Simple interest for a holder 6500\n",
      "Fixed interest for a holder 7000\n"
     ]
    }
   ],
   "source": [
    "public class Interest\n",
    "{\n",
    "    public virtual double TrueBank(double amount, double rate)\n",
    "    {\n",
    "        return amount + (amount * rate);\n",
    "    }\n",
    "}\n",
    "\n",
    "public class SimpleInterest: Interest\n",
    "{\n",
    "    public override double TrueBank(double amount, double rate)\n",
    "    {\n",
    "        return amount + (amount * rate) + 1000;\n",
    "    }\n",
    "}\n",
    "\n",
    "public class FixedInterest: Interest\n",
    "{\n",
    "    public override double TrueBank(double amount, double rate)\n",
    "    {\n",
    "        return amount + (amount * rate) + 1500;\n",
    "    }\n",
    "}\n",
    "\n",
    "\n",
    "Interest i = new Interest();\n",
    "double finalamount = i.TrueBank(5000.00,0.1);\n",
    "Console.WriteLine($\"Normal interest for a holder {finalamount}\");\n",
    "\n",
    "i = new SimpleInterest();\n",
    "finalamount = i.TrueBank(5000.00,0.1);\n",
    "Console.WriteLine($\"Simple interest for a holder {finalamount}\");\n",
    "\n",
    "i = new FixedInterest();\n",
    "finalamount = i.TrueBank(5000.00,0.1);\n",
    "Console.WriteLine($\"Fixed interest for a holder {finalamount}\");"
   ]
  },
  {
   "attachments": {},
   "cell_type": "markdown",
   "metadata": {},
   "source": [
    "## Operator overloading"
   ]
  },
  {
   "cell_type": "code",
   "execution_count": 8,
   "metadata": {
    "dotnet_interactive": {
     "language": "csharp"
    },
    "polyglot_notebook": {
     "kernelName": "csharp"
    },
    "vscode": {
     "languageId": "polyglot-notebook"
    }
   },
   "outputs": [],
   "source": [
    "public class Vector2D\n",
    "{\n",
    "    public double X { get; set; }\n",
    "    public double Y { get; set; }\n",
    "\n",
    "    public Vector2D(double x, double y)\n",
    "    {\n",
    "        X = x;\n",
    "        Y = y;\n",
    "    }\n",
    "\n",
    "    // Overloading the addition operator (+)\n",
    "    public static Vector2D operator +(Vector2D v1, Vector2D v2)\n",
    "    {\n",
    "        return new Vector2D(v1.X + v2.X, v1.Y + v2.Y);\n",
    "    }\n",
    "\n",
    "    // Overloading the subtraction operator (-)\n",
    "    public static Vector2D operator -(Vector2D v1, Vector2D v2)\n",
    "    {\n",
    "        return new Vector2D(v1.X - v2.X, v1.Y - v2.Y);\n",
    "    }\n",
    "\n",
    "    // Overloading the multiplication operator (*) for scalar multiplication\n",
    "    public static Vector2D operator *(Vector2D v, double scalar)\n",
    "    {\n",
    "        return new Vector2D(v.X * scalar, v.Y * scalar);\n",
    "    }\n",
    "\n",
    "    // Overloading the multiplication operator (*) for dot product\n",
    "    public static double operator *(Vector2D v1, Vector2D v2)\n",
    "    {\n",
    "        return v1.X * v2.X + v1.Y * v2.Y;\n",
    "    }\n",
    "\n",
    "    // Overloading the equality operator (==)\n",
    "    public static bool operator ==(Vector2D v1, Vector2D v2)\n",
    "    {\n",
    "        return v1.X == v2.X && v1.Y == v2.Y;\n",
    "    }\n",
    "\n",
    "    // Overloading the inequality operator (!=)\n",
    "    public static bool operator !=(Vector2D v1, Vector2D v2)\n",
    "    {\n",
    "        return !(v1 == v2);\n",
    "    }\n",
    "\n",
    "    public override string ToString() => $\"X {X}: Y {Y}\";\n",
    "}\n",
    "\n",
    "var v = new Vector2D(10.5, 30.5);\n",
    "var v2 = new Vector2D(20, 10);\n",
    "var sum = (v + v2).ToString();\n",
    "var sub = (v - v2).ToString();\n",
    "var prod = v * v2;\n",
    "var prodEscalar = (v2 * 10).ToString();\n",
    "var equals = v == v2;"
   ]
  },
  {
   "attachments": {},
   "cell_type": "markdown",
   "metadata": {},
   "source": [
    "## Interface Polymorphism "
   ]
  },
  {
   "cell_type": "code",
   "execution_count": 4,
   "metadata": {
    "dotnet_interactive": {
     "language": "csharp"
    },
    "polyglot_notebook": {
     "kernelName": "csharp"
    },
    "vscode": {
     "languageId": "polyglot-notebook"
    }
   },
   "outputs": [
    {
     "name": "stdout",
     "output_type": "stream",
     "text": [
      "Logging to file: Data processing complete\n",
      "Logging to console: Data processing complete\n"
     ]
    }
   ],
   "source": [
    "public interface ILogger\n",
    "{\n",
    "    void Log(string message);\n",
    "}\n",
    "\n",
    "public class FileLogger : ILogger\n",
    "{\n",
    "    public void Log(string message)\n",
    "    {\n",
    "        // Log the message to a file\n",
    "        Console.WriteLine($\"Logging to file: {message}\");\n",
    "    }\n",
    "}\n",
    "\n",
    "public class ConsoleLogger : ILogger\n",
    "{\n",
    "    public void Log(string message)\n",
    "    {\n",
    "        // Log the message to the console\n",
    "        Console.WriteLine($\"Logging to console: {message}\");\n",
    "    }\n",
    "}\n",
    "\n",
    "public class DataProcessor\n",
    "{\n",
    "    private readonly ILogger _logger;\n",
    "\n",
    "    public DataProcessor(ILogger logger)\n",
    "    {\n",
    "        _logger = logger;\n",
    "    }\n",
    "\n",
    "    public void ProcessData(string data)\n",
    "    {\n",
    "        // Process the data\n",
    "\n",
    "        // Log a message using the injected logger\n",
    "        _logger.Log(\"Data processing complete\");\n",
    "    }\n",
    "}\n",
    "\n",
    "ILogger fileLogger = new FileLogger();\n",
    "DataProcessor dataProcessor1 = new DataProcessor(fileLogger);\n",
    "dataProcessor1.ProcessData(\"Sample data\");\n",
    "\n",
    "ILogger consoleLogger = new ConsoleLogger();\n",
    "DataProcessor dataProcessor2 = new DataProcessor(consoleLogger);\n",
    "dataProcessor2.ProcessData(\"Another sample data\");"
   ]
  }
 ],
 "metadata": {
  "language_info": {
   "name": "python"
  },
  "orig_nbformat": 4
 },
 "nbformat": 4,
 "nbformat_minor": 2
}
