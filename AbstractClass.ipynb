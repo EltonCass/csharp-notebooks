{
 "cells": [
  {
   "attachments": {},
   "cell_type": "markdown",
   "metadata": {},
   "source": [
    "# Abstract class\n",
    "Abstract classes are classes that cannot be instantiated and are meant to be inherited from. They can contain a mixture of abstract and non-abstract (concrete) members. \n",
    "Abstract classes can provide a common base for derived classes to inherit from."
   ]
  },
  {
   "cell_type": "code",
   "execution_count": 3,
   "metadata": {
    "dotnet_interactive": {
     "language": "csharp"
    },
    "polyglot_notebook": {
     "kernelName": "csharp"
    },
    "vscode": {
     "languageId": "polyglot-notebook"
    }
   },
   "outputs": [
    {
     "name": "stdout",
     "output_type": "stream",
     "text": [
      "Submission#4+Rectangle\n",
      "Area: 4000, Perimeter: 280\n",
      "Submission#4+Circle\n",
      "Area: 5026.548245743669, Perimeter: 251.32741228718345\n"
     ]
    }
   ],
   "source": [
    "public abstract class Shape\n",
    "{\n",
    "    public abstract double CalculateArea();\n",
    "    public abstract double CalculatePerimeter();\n",
    "\n",
    "    public void Display()\n",
    "    {\n",
    "        Console.WriteLine($\"Area: {CalculateArea()}, Perimeter: {CalculatePerimeter()}\");\n",
    "    }\n",
    "}\n",
    "\n",
    "public class Circle : Shape\n",
    "{\n",
    "    private double radius;\n",
    "\n",
    "    public Circle(double radius)\n",
    "    {\n",
    "        this.radius = radius;\n",
    "    }\n",
    "\n",
    "    public override double CalculateArea()\n",
    "    {\n",
    "        return Math.PI * radius * radius;\n",
    "    }\n",
    "\n",
    "    public override double CalculatePerimeter()\n",
    "    {\n",
    "        return 2 * Math.PI * radius;\n",
    "    }\n",
    "}\n",
    "\n",
    "public class Rectangle : Shape\n",
    "{\n",
    "    private double length;\n",
    "    private double width;\n",
    "\n",
    "    public Rectangle(double length, double width)\n",
    "    {\n",
    "        this.length = length;\n",
    "        this.width = width;\n",
    "    }\n",
    "\n",
    "    public override double CalculateArea()\n",
    "    {\n",
    "        return length * width;\n",
    "    }\n",
    "\n",
    "    public override double CalculatePerimeter()\n",
    "    {\n",
    "        return 2 * (length + width);\n",
    "    }\n",
    "}\n",
    "\n",
    "var rectangle = new Rectangle(40, 100);\n",
    "//rectangle.Display();\n",
    "\n",
    "var circle = new Circle(40);\n",
    "//circle.Display();\n",
    "\n",
    "List<Shape> shapes = new() { rectangle, circle };\n",
    "foreach(var shape in shapes)\n",
    "{\n",
    "    Console.WriteLine(shape);\n",
    "    shape.Display();\n",
    "}"
   ]
  }
 ],
 "metadata": {
  "language_info": {
   "name": "python"
  },
  "orig_nbformat": 4
 },
 "nbformat": 4,
 "nbformat_minor": 2
}
