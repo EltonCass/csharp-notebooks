{
 "cells": [
  {
   "attachments": {},
   "cell_type": "markdown",
   "metadata": {},
   "source": [
    "# Abstract class\n",
    "Abstract classes are classes that cannot be instantiated and are meant to be inherited from. They can contain a mixture of abstract and non-abstract (concrete) members. \n",
    "Abstract classes can provide a common base for derived classes to inherit from."
   ]
  },
  {
   "cell_type": "code",
   "execution_count": 6,
   "metadata": {
    "dotnet_interactive": {
     "language": "csharp"
    },
    "polyglot_notebook": {
     "kernelName": "csharp"
    },
    "vscode": {
     "languageId": "polyglot-notebook"
    }
   },
   "outputs": [
    {
     "name": "stdout",
     "output_type": "stream",
     "text": [
      "Submission#7+Rectangle\n",
      "Area: 4000, Perimeter: 280\n",
      "Submission#7+Circle\n",
      "Area: 5026.548245743669, Perimeter: 251.32741228718345\n"
     ]
    }
   ],
   "source": [
    "public abstract class Shape\n",
    "{\n",
    "    public abstract double CalculateArea();\n",
    "    public abstract double CalculatePerimeter();\n",
    "\n",
    "    public void Display()\n",
    "    {\n",
    "        Console.WriteLine($\"Area: {CalculateArea()}, Perimeter: {CalculatePerimeter()}\");\n",
    "    }\n",
    "}\n",
    "\n",
    "public class Circle : Shape\n",
    "{\n",
    "    private double radius;\n",
    "\n",
    "    public Circle(double radius)\n",
    "    {\n",
    "        this.radius = radius;\n",
    "    }\n",
    "\n",
    "    public override double CalculateArea()\n",
    "    {\n",
    "        return Math.PI * radius * radius;\n",
    "    }\n",
    "\n",
    "    public override double CalculatePerimeter()\n",
    "    {\n",
    "        return 2 * Math.PI * radius;\n",
    "    }\n",
    "}\n",
    "\n",
    "public class Rectangle : Shape\n",
    "{\n",
    "    private double length;\n",
    "    private double width;\n",
    "\n",
    "    public Rectangle(double length, double width)\n",
    "    {\n",
    "        this.length = length;\n",
    "        this.width = width;\n",
    "    }\n",
    "\n",
    "    public override double CalculateArea()\n",
    "    {\n",
    "        return length * width;\n",
    "    }\n",
    "\n",
    "    public override double CalculatePerimeter()\n",
    "    {\n",
    "        return 2 * (length + width);\n",
    "    }\n",
    "}\n",
    "\n",
    "var rectangle = new Rectangle(40, 100);\n",
    "//rectangle.Display();\n",
    "\n",
    "var circle = new Circle(40);\n",
    "//circle.Display();\n",
    "\n",
    "List<Shape> shapes = new() { rectangle, circle };\n",
    "foreach(var shape in shapes)\n",
    "{\n",
    "    Console.WriteLine(shape);\n",
    "    shape.Display();\n",
    "}"
   ]
  },
  {
   "attachments": {},
   "cell_type": "markdown",
   "metadata": {},
   "source": [
    "## Template Method\n",
    "\n",
    "![Template](./images/TemplateMethodDiagram.png)\n",
    "General Diagram\n",
    "\n",
    "By using the Template Method design pattern, the overall algorithm for preparing a beverage is defined in the abstract class, while allowing subclasses to customize specific steps. "
   ]
  },
  {
   "cell_type": "code",
   "execution_count": 7,
   "metadata": {
    "dotnet_interactive": {
     "language": "csharp"
    },
    "polyglot_notebook": {
     "kernelName": "csharp"
    },
    "vscode": {
     "languageId": "polyglot-notebook"
    }
   },
   "outputs": [
    {
     "name": "stdout",
     "output_type": "stream",
     "text": [
      "Boiling water...\n",
      "Steeping tea leaves...\n",
      "Pouring beverage into cup...\n",
      "Adding lemon to tea...\n",
      "Enjoy your beverage!\n",
      "----------------\n",
      "Boiling water...\n",
      "Brewing coffee...\n",
      "Pouring beverage into cup...\n",
      "Adding sugar and milk to coffee...\n",
      "Enjoy your beverage!\n"
     ]
    }
   ],
   "source": [
    "public abstract class Beverage\n",
    "{\n",
    "    // The template method that defines the overall algorithm\n",
    "    public void PrepareBeverage()\n",
    "    {\n",
    "        BoilWater();\n",
    "        Brew();\n",
    "        PourIntoCup();\n",
    "        AddCondiments();\n",
    "        Console.WriteLine(\"Enjoy your beverage!\");\n",
    "    }\n",
    "\n",
    "    // Abstract methods to be implemented by subclasses\n",
    "    protected abstract void Brew();\n",
    "    protected abstract void AddCondiments();\n",
    "\n",
    "    // Common methods used by all subclasses\n",
    "    protected virtual void BoilWater()\n",
    "    {\n",
    "        Console.WriteLine(\"Boiling water...\");\n",
    "    }\n",
    "\n",
    "    protected virtual void PourIntoCup()\n",
    "    {\n",
    "        Console.WriteLine(\"Pouring beverage into cup...\");\n",
    "    }\n",
    "}\n",
    "\n",
    "public class Coffee : Beverage\n",
    "{\n",
    "    protected override void Brew()\n",
    "    {\n",
    "        Console.WriteLine(\"Brewing coffee...\");\n",
    "    }\n",
    "\n",
    "    protected override void AddCondiments()\n",
    "    {\n",
    "        Console.WriteLine(\"Adding sugar and milk to coffee...\");\n",
    "    }\n",
    "}\n",
    "\n",
    "public class Tea : Beverage\n",
    "{\n",
    "    protected override void Brew()\n",
    "    {\n",
    "        Console.WriteLine(\"Steeping tea leaves...\");\n",
    "    }\n",
    "\n",
    "    protected override void AddCondiments()\n",
    "    {\n",
    "        Console.WriteLine(\"Adding lemon to tea...\");\n",
    "    }\n",
    "}\n",
    "\n",
    "\n",
    "var tea = new Tea();\n",
    "tea.PrepareBeverage();\n",
    "Console.WriteLine(\"----------------\");\n",
    "var coffee = new Coffee();\n",
    "coffee.PrepareBeverage();"
   ]
  }
 ],
 "metadata": {
  "language_info": {
   "name": "python"
  },
  "orig_nbformat": 4
 },
 "nbformat": 4,
 "nbformat_minor": 2
}
