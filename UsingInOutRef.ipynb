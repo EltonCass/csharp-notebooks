{
 "cells": [
  {
   "attachments": {},
   "cell_type": "markdown",
   "metadata": {
    "dotnet_interactive": {
     "language": "csharp"
    },
    "polyglot_notebook": {
     "kernelName": "csharp"
    }
   },
   "source": [
    "# Using In, Out and Ref\n",
    "In C#, parameters are typically **passed by value**, which means that a **copy** of the parameter's value is passed to the method. \n",
    "However, there are scenarios where you might want to pass parameters by reference or read-only reference. \n",
    "C# provides the `ref`, `in`, and `out` keywords to handle these scenarios.\n",
    "\n",
    "## Passing parameters by value"
   ]
  },
  {
   "cell_type": "code",
   "execution_count": 1,
   "metadata": {
    "dotnet_interactive": {
     "language": "csharp"
    },
    "polyglot_notebook": {
     "kernelName": "csharp"
    },
    "vscode": {
     "languageId": "polyglot-notebook"
    }
   },
   "outputs": [
    {
     "name": "stdout",
     "output_type": "stream",
     "text": [
      "Bonus: 60\n",
      "Original Increment: 50\n"
     ]
    }
   ],
   "source": [
    "void AddOutstandingBonus(int increment)\n",
    "{\n",
    "    var bonusForTenure = .20;\n",
    "    increment += (int)(increment * bonusForTenure); // Changes made to the parameter increment within the method do not affect the original increment\n",
    "    Console.WriteLine($\"Bonus: {increment}\");\n",
    "}\n",
    "\n",
    "int originalIncrement = 50;\n",
    "AddOutstandingBonus(originalIncrement);\n",
    "Console.WriteLine($\"Original Increment: {originalIncrement}\");"
   ]
  },
  {
   "attachments": {},
   "cell_type": "markdown",
   "metadata": {
    "dotnet_interactive": {
     "language": "csharp"
    },
    "polyglot_notebook": {
     "kernelName": "csharp"
    }
   },
   "source": [
    "## Passing parameters by reference\n",
    "Changes made to the parameter within the method will affect the original value."
   ]
  },
  {
   "cell_type": "code",
   "execution_count": 3,
   "metadata": {
    "dotnet_interactive": {
     "language": "csharp"
    },
    "polyglot_notebook": {
     "kernelName": "csharp"
    },
    "vscode": {
     "languageId": "polyglot-notebook"
    }
   },
   "outputs": [
    {
     "name": "stdout",
     "output_type": "stream",
     "text": [
      "Bonus (from inside): 60\n",
      "Modified Increment (from outside): 60\n"
     ]
    }
   ],
   "source": [
    "void AddOutstandingBonus(ref int increment)\n",
    "{\n",
    "    var bonusForTenure = .20;\n",
    "    increment += (int)(increment * bonusForTenure);\n",
    "    Console.WriteLine($\"Bonus (from inside): {increment}\");\n",
    "}\n",
    "\n",
    "int originalIncrement = 50;\n",
    "AddOutstandingBonus(ref originalIncrement);\n",
    "Console.WriteLine($\"Modified Increment (from outside): {originalIncrement}\");"
   ]
  },
  {
   "attachments": {},
   "cell_type": "markdown",
   "metadata": {
    "dotnet_interactive": {
     "language": "csharp"
    },
    "polyglot_notebook": {
     "kernelName": "csharp"
    }
   },
   "source": [
    "## Passing parameters by Read-only reference using In\n",
    "The method can read the value, but cannot modify it."
   ]
  },
  {
   "cell_type": "code",
   "execution_count": 6,
   "metadata": {
    "dotnet_interactive": {
     "language": "csharp"
    },
    "polyglot_notebook": {
     "kernelName": "csharp"
    },
    "vscode": {
     "languageId": "polyglot-notebook"
    }
   },
   "outputs": [
    {
     "name": "stdout",
     "output_type": "stream",
     "text": [
      "Bonus (from inside): 60\n",
      "Original Increment (from outside): 50\n"
     ]
    }
   ],
   "source": [
    "void AddOutstandingBonus(in int increment)\n",
    "{\n",
    "    var bonusForTenure = .20;\n",
    "    // increment += (int)(increment * bonusForTenure);\n",
    "    var calculatedIncrement = increment + (int)(increment * bonusForTenure);\n",
    "    Console.WriteLine($\"Bonus (from inside): {calculatedIncrement}\");\n",
    "}\n",
    "\n",
    "int originalIncrement = 50;\n",
    "AddOutstandingBonus(in originalIncrement);\n",
    "Console.WriteLine($\"Original Increment (from outside): {originalIncrement}\");"
   ]
  },
  {
   "attachments": {},
   "cell_type": "markdown",
   "metadata": {
    "dotnet_interactive": {
     "language": "csharp"
    },
    "polyglot_notebook": {
     "kernelName": "csharp"
    }
   },
   "source": [
    "## Returning values using Out\n",
    "The method must assign a value to the 'out' parameter before returning."
   ]
  },
  {
   "cell_type": "code",
   "execution_count": null,
   "metadata": {
    "dotnet_interactive": {
     "language": "csharp"
    },
    "polyglot_notebook": {
     "kernelName": "csharp"
    },
    "vscode": {
     "languageId": "polyglot-notebook"
    }
   },
   "outputs": [],
   "source": [
    "\n",
    "bool TryConvertToNumber(string numberText, out int value)\n",
    "{\n",
    "    value = 0;\n",
    "    if (int.TryParse(numberText, out var number))\n",
    "    {\n",
    "        value = number;\n",
    "        return true;\n",
    "    }\n",
    "\n",
    "    return false;\n",
    "}\n",
    "\n",
    "string numberText = \"123\";\n",
    "var isSuccessfull = TryConvertToNumber(numberText, out var number);\n",
    "Console.WriteLine(@$\"\n",
    "Was value coverted successfully?: {isSuccessfull}\n",
    "Output Value: {number}\");"
   ]
  },
  {
   "attachments": {},
   "cell_type": "markdown",
   "metadata": {
    "dotnet_interactive": {
     "language": "csharp"
    },
    "polyglot_notebook": {
     "kernelName": "csharp"
    }
   },
   "source": [
    "## Example using Classes"
   ]
  },
  {
   "cell_type": "code",
   "execution_count": 9,
   "metadata": {
    "dotnet_interactive": {
     "language": "csharp"
    },
    "polyglot_notebook": {
     "kernelName": "csharp"
    },
    "vscode": {
     "languageId": "polyglot-notebook"
    }
   },
   "outputs": [
    {
     "name": "stdout",
     "output_type": "stream",
     "text": [
      "Dirk White has a salary of $11,000.00\n",
      "---------------\n",
      "Dirk White has a salary of $11,000.00\n"
     ]
    }
   ],
   "source": [
    "class Employee\n",
    "{\n",
    "    public string Name {get; set;}\n",
    "    public int Age {get; set;}\n",
    "    public decimal Salary {get; set;}\n",
    "\n",
    "    public Employee(string name, int age, decimal salary)\n",
    "    {\n",
    "        Name = name;\n",
    "        Age = age;\n",
    "        Salary = salary;\n",
    "    }\n",
    "\n",
    "    public override string ToString() => $\"{Name} has a salary of {Salary:C}\";\n",
    "}\n",
    "\n",
    "void CalculateBonus(Employee employee)\n",
    "{\n",
    "    var bonus = employee.Age < 50 ? .10: .20;\n",
    "    \n",
    "    employee.Salary += (int)(employee.Salary * (decimal)bonus);\n",
    "    Console.WriteLine(employee.ToString());\n",
    "}\n",
    "\n",
    "var employee = new Employee(\"Dirk White\", 30, 10000m);\n",
    "CalculateBonus(employee);\n",
    "Console.WriteLine(\"---------------\");\n",
    "Console.WriteLine(employee.ToString());"
   ]
  }
 ],
 "metadata": {
  "kernelspec": {
   "display_name": ".NET (C#)",
   "language": "C#",
   "name": ".net-csharp"
  },
  "polyglot_notebook": {
   "kernelInfo": {
    "defaultKernelName": "csharp",
    "items": [
     {
      "aliases": [
       "c#",
       "C#"
      ],
      "languageName": "C#",
      "name": "csharp"
     },
     {
      "aliases": [
       "frontend"
      ],
      "languageName": null,
      "name": "vscode"
     }
    ]
   }
  }
 },
 "nbformat": 4,
 "nbformat_minor": 2
}
