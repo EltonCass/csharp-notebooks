{
 "cells": [
  {
   "attachments": {},
   "cell_type": "markdown",
   "metadata": {},
   "source": [
    "# Extension methods\n",
    "## Examples"
   ]
  },
  {
   "cell_type": "code",
   "execution_count": 3,
   "metadata": {
    "vscode": {
     "languageId": "polyglot-notebook"
    }
   },
   "outputs": [],
   "source": [
    "//In notebooks you don't need to specify the static class.\n",
    "//public static class ProductExtensions \n",
    "//{\n",
    "    public static double ReducePrice(this Product product, double discount)\n",
    "    {\n",
    "        return product.Price - (product.Price * discount);\n",
    "    }\n",
    "//}\n",
    "\n",
    "public sealed record Product(double Price);\n",
    "\n",
    "var shirt = new Product(334.2);\n",
    "var result = shirt.ReducePrice(0.1);"
   ]
  },
  {
   "cell_type": "code",
   "execution_count": 4,
   "metadata": {
    "dotnet_interactive": {
     "language": "csharp"
    },
    "polyglot_notebook": {
     "kernelName": "csharp"
    },
    "vscode": {
     "languageId": "polyglot-notebook"
    }
   },
   "outputs": [],
   "source": [
    "public static IEnumerable<T> Mode<T>(this IEnumerable<T> source)\n",
    "{\n",
    "    ArgumentNullException.ThrowIfNull(source);\n",
    "\n",
    "    var groups = source.GroupBy(x => x);\n",
    "    var maxCount = groups.Max(g => g.Count());\n",
    "    return groups\n",
    "        .Where(g => g.Count() == maxCount)\n",
    "        .Select(g => g.Key);\n",
    "}\n",
    "\n",
    "var mode = new[] {1, 2, 3, 4, 5, 3, 4, 2, 2, 1, 9, 8}.Mode();"
   ]
  }
 ],
 "metadata": {
  "language_info": {
   "name": "python"
  },
  "orig_nbformat": 4
 },
 "nbformat": 4,
 "nbformat_minor": 2
}
