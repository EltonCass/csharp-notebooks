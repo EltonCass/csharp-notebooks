{
 "cells": [
  {
   "attachments": {},
   "cell_type": "markdown",
   "metadata": {},
   "source": [
    "# Collections\n",
    "## IEnumerable\n",
    "### Lazy evaluation\n",
    "\n",
    "Using yield with GetNumbersWithYield allows the numbers to be generated on-demand as they are iterated over. This means that the numbers are generated lazily and only when requested. It avoids the need to eagerly create and store the entire sequence upfront, which can be more memory-efficient, especially for large collections.\n",
    "\n",
    "In contrast, GetNumbersWithoutYield eagerly creates and stores the entire sequence in a List<int> before returning it. This can be less efficient in terms of memory usage, especially if the sequence is large or if it's not always necessary to process the entire sequence.\n",
    "\n",
    "In summary, the yield keyword provides a convenient way to implement lazy evaluation and deferred execution when working with collections. "
   ]
  },
  {
   "cell_type": "code",
   "execution_count": 15,
   "metadata": {
    "dotnet_interactive": {
     "language": "csharp"
    },
    "polyglot_notebook": {
     "kernelName": "csharp"
    },
    "vscode": {
     "languageId": "polyglot-notebook"
    }
   },
   "outputs": [
    {
     "name": "stdout",
     "output_type": "stream",
     "text": [
      "Numbers without yield:\n",
      "1\n",
      "2\n",
      "3\n",
      "4\n",
      "5\n",
      "---------------\n",
      "Numbers with yield:\n",
      "1\n",
      "2\n",
      "3\n",
      "4\n",
      "5\n",
      "Numbers with yield:\n",
      "1\n",
      "2\n",
      "3\n",
      "4\n",
      "5\n"
     ]
    }
   ],
   "source": [
    "\n",
    "// Example without yield\n",
    "var numbersWithoutYield = GetNumbersWithoutYield(5);\n",
    "\n",
    "foreach (var number in numbersWithoutYield)\n",
    "{\n",
    "    await Task.Delay(500); \n",
    "}\n",
    "foreach (var number in numbersWithoutYield)\n",
    "{\n",
    "    await Task.Delay(500); \n",
    "}\n",
    "Console.WriteLine(\"---------------\");\n",
    "\n",
    "// Example with yield\n",
    "var numbersWithYield = GetNumbersWithYield(5);\n",
    "foreach (var number in numbersWithYield)\n",
    "{\n",
    "    await Task.Delay(500); \n",
    "}\n",
    "\n",
    "\n",
    "foreach (var number in numbersWithYield)\n",
    "{\n",
    "    await Task.Delay(500); \n",
    "}\n",
    "\n",
    "List<int> GetNumbersWithoutYield(int count)\n",
    "{\n",
    "    List<int> numbers = new List<int>();\n",
    "    Console.WriteLine(\"Numbers without yield:\");\n",
    "    for (int i = 1; i <= count; i++)\n",
    "    {\n",
    "        Console.WriteLine(i);\n",
    "        numbers.Add(i);\n",
    "    }\n",
    "\n",
    "    return numbers;\n",
    "}\n",
    "\n",
    "IEnumerable<int> GetNumbersWithYield(int count)\n",
    "{\n",
    "    Console.WriteLine(\"Numbers with yield:\");\n",
    "    for (int i = 1; i <= count; i++)\n",
    "    {\n",
    "        Console.WriteLine(i);\n",
    "        yield return i;\n",
    "    }\n",
    "}"
   ]
  },
  {
   "attachments": {},
   "cell_type": "markdown",
   "metadata": {},
   "source": [
    "## Lists"
   ]
  },
  {
   "cell_type": "code",
   "execution_count": 16,
   "metadata": {
    "dotnet_interactive": {
     "language": "csharp"
    },
    "polyglot_notebook": {
     "kernelName": "csharp"
    },
    "vscode": {
     "languageId": "polyglot-notebook"
    }
   },
   "outputs": [
    {
     "name": "stdout",
     "output_type": "stream",
     "text": [
      "Employee John Doe, ID: 1001\r\n"
     ]
    }
   ],
   "source": [
    "public record Employee(string FirstName, string LastName, int EmployeeId);\n",
    "\n",
    "List<Employee> employees = new List<Employee>();\n",
    "\n",
    "// Add employees to the list\n",
    "employees.Add(new Employee(\"John\", \"Doe\", 1001));\n",
    "employees.Add(new Employee(\"Jane\", \"Smith\", 1002));\n",
    "employees.Add(new Employee(\"Mark\", \"Johnson\", 1003));\n",
    "\n",
    "// Remove an employee from the list\n",
    "Employee removedEmployee = employees.FirstOrDefault(e => e.EmployeeId == 1002);\n",
    "if (removedEmployee != null)\n",
    "{\n",
    "    employees.Remove(removedEmployee);\n",
    "}\n",
    "\n",
    "// Retrieve employee information\n",
    "Employee john = employees.FirstOrDefault(e => e.FirstName == \"John\");\n",
    "\n",
    "// Display employee information\n",
    "if (john is not null)\n",
    "{\n",
    "    Console.WriteLine($\"Employee {john.FirstName} {john.LastName}, ID: {john.EmployeeId}\");\n",
    "}"
   ]
  },
  {
   "attachments": {},
   "cell_type": "markdown",
   "metadata": {},
   "source": [
    "## Dictionary"
   ]
  },
  {
   "cell_type": "code",
   "execution_count": 17,
   "metadata": {
    "dotnet_interactive": {
     "language": "csharp"
    },
    "polyglot_notebook": {
     "kernelName": "csharp"
    },
    "vscode": {
     "languageId": "polyglot-notebook"
    }
   },
   "outputs": [
    {
     "name": "stdout",
     "output_type": "stream",
     "text": [
      "Employee Name: Jane Smith\n",
      "Employee with ID 105 not found.\n",
      "Employee ID: 101, Name: John Doe\n",
      "Employee ID: 102, Name: Jane Smith\n",
      "Employee ID: 103, Name: Mike Johnson\n",
      "Employee ID: 104, Name: Emily Davis\n"
     ]
    }
   ],
   "source": [
    "// Create a dictionary to store employee information\n",
    "Dictionary<int, string> employeeDictionary = new Dictionary<int, string>();\n",
    "\n",
    "// Add employee records to the dictionary\n",
    "employeeDictionary.Add(101, \"John Doe\");\n",
    "employeeDictionary.Add(102, \"Jane Smith\");\n",
    "employeeDictionary.Add(103, \"Mike Johnson\");\n",
    "employeeDictionary.Add(104, \"Emily Davis\");\n",
    "\n",
    "// Accessing values by key\n",
    "string employeeName = employeeDictionary[102];\n",
    "Console.WriteLine(\"Employee Name: \" + employeeName);\n",
    "\n",
    "// Checking if a key exists in the dictionary\n",
    "int employeeId = 105;\n",
    "if (employeeDictionary.ContainsKey(employeeId))\n",
    "{\n",
    "    employeeName = employeeDictionary[employeeId];\n",
    "    Console.WriteLine(\"Employee Name: \" + employeeName);\n",
    "}\n",
    "else\n",
    "{\n",
    "    Console.WriteLine(\"Employee with ID \" + employeeId + \" not found.\");\n",
    "}\n",
    "\n",
    "// Iterating over key-value pairs in the dictionary\n",
    "foreach (KeyValuePair<int, string> employee in employeeDictionary)\n",
    "{\n",
    "    Console.WriteLine(\"Employee ID: \" + employee.Key + \", Name: \" + employee.Value);\n",
    "}\n",
    "\n",
    "// Removing an employee from the dictionary\n",
    "employeeDictionary.Remove(103);\n",
    "\n",
    "// Clearing all entries from the dictionary\n",
    "employeeDictionary.Clear();"
   ]
  },
  {
   "cell_type": "code",
   "execution_count": 22,
   "metadata": {
    "dotnet_interactive": {
     "language": "csharp"
    },
    "polyglot_notebook": {
     "kernelName": "csharp"
    },
    "vscode": {
     "languageId": "polyglot-notebook"
    }
   },
   "outputs": [
    {
     "name": "stdout",
     "output_type": "stream",
     "text": [
      "Login successful!\r\n"
     ]
    }
   ],
   "source": [
    "using System.Security.Cryptography;\n",
    "using System.Text;\n",
    "\n",
    "// Create a dictionary to store user credentials\n",
    "Dictionary<string, string> userCredentials = new Dictionary<string, string>();\n",
    "\n",
    "// Generate a random salt value for password encryption\n",
    "byte[] salt = GenerateSalt();\n",
    "\n",
    "// Add user credentials to the dictionary\n",
    "userCredentials.Add(\"user1\", HashPassword(\"password1\", salt));\n",
    "userCredentials.Add(\"user2\", HashPassword(\"password2\", salt));\n",
    "userCredentials.Add(\"user3\", HashPassword(\"password3\", salt));\n",
    "\n",
    "// User login example\n",
    "string username = \"user2\";\n",
    "string password = \"password2\";\n",
    "\n",
    "// Check if the username exists in the dictionary\n",
    "if (userCredentials.ContainsKey(username))\n",
    "{\n",
    "    // Retrieve the stored encrypted password for the given username\n",
    "    string storedPassword = userCredentials[username];\n",
    "\n",
    "    // Hash the provided password with the same salt value\n",
    "    string hashedPassword = HashPassword(password, salt);\n",
    "\n",
    "    // Compare the stored password with the hashed password\n",
    "    if (storedPassword == hashedPassword)\n",
    "    {\n",
    "        Console.WriteLine(\"Login successful!\");\n",
    "    }\n",
    "    else\n",
    "    {\n",
    "        Console.WriteLine(\"Invalid username or password.\");\n",
    "    }\n",
    "}\n",
    "else\n",
    "{\n",
    "    Console.WriteLine(\"Invalid username or password.\");\n",
    "}\n",
    "\n",
    "// Hashes the password using a salt value\n",
    "static string HashPassword(string password, byte[] salt)\n",
    "{\n",
    "    using (var sha256 = new SHA256Managed())\n",
    "    {\n",
    "        byte[] passwordBytes = Encoding.UTF8.GetBytes(password);\n",
    "        byte[] saltedPasswordBytes = new byte[passwordBytes.Length + salt.Length];\n",
    "        Buffer.BlockCopy(passwordBytes, 0, saltedPasswordBytes, 0, passwordBytes.Length);\n",
    "        Buffer.BlockCopy(salt, 0, saltedPasswordBytes, passwordBytes.Length, salt.Length);\n",
    "        byte[] hashBytes = sha256.ComputeHash(saltedPasswordBytes);\n",
    "        return Convert.ToBase64String(hashBytes);\n",
    "    }\n",
    "}\n",
    "\n",
    "// Generates a random salt value\n",
    "static byte[] GenerateSalt()\n",
    "{\n",
    "    byte[] salt = new byte[16];\n",
    "    using (var rngCryptoServiceProvider = new RNGCryptoServiceProvider())\n",
    "    {\n",
    "        rngCryptoServiceProvider.GetBytes(salt);\n",
    "    }\n",
    "    return salt;\n",
    "}"
   ]
  },
  {
   "attachments": {},
   "cell_type": "markdown",
   "metadata": {},
   "source": [
    "## HashSet"
   ]
  },
  {
   "cell_type": "code",
   "execution_count": 23,
   "metadata": {
    "dotnet_interactive": {
     "language": "csharp"
    },
    "polyglot_notebook": {
     "kernelName": "csharp"
    },
    "vscode": {
     "languageId": "polyglot-notebook"
    }
   },
   "outputs": [
    {
     "name": "stdout",
     "output_type": "stream",
     "text": [
      "Employee ID 1002 already exists.\n",
      "Employee ID 1003 removed successfully.\n",
      "Employee ID 1004 exists.\n"
     ]
    }
   ],
   "source": [
    "// Create a HashSet to store unique employee IDs\n",
    "HashSet<int> employeeIds = new HashSet<int>();\n",
    "\n",
    "// Add employee IDs to the HashSet\n",
    "employeeIds.Add(1001);\n",
    "employeeIds.Add(1002);\n",
    "employeeIds.Add(1003);\n",
    "employeeIds.Add(1004);\n",
    "\n",
    "// Try to add a duplicate employee ID\n",
    "int newEmployeeId = 1002;\n",
    "bool isAdded = employeeIds.Add(newEmployeeId);\n",
    "\n",
    "// Check if the ID was added successfully or already exists\n",
    "if (isAdded)\n",
    "{\n",
    "    Console.WriteLine($\"Employee ID {newEmployeeId} added successfully.\");\n",
    "}\n",
    "else\n",
    "{\n",
    "    Console.WriteLine($\"Employee ID {newEmployeeId} already exists.\");\n",
    "}\n",
    "\n",
    "// Remove an employee ID\n",
    "int employeeToRemove = 1003;\n",
    "bool isRemoved = employeeIds.Remove(employeeToRemove);\n",
    "\n",
    "// Check if the ID was removed successfully or not found\n",
    "if (isRemoved)\n",
    "{\n",
    "    Console.WriteLine($\"Employee ID {employeeToRemove} removed successfully.\");\n",
    "}\n",
    "else\n",
    "{\n",
    "    Console.WriteLine($\"Employee ID {employeeToRemove} not found.\");\n",
    "}\n",
    "\n",
    "// Check if an employee ID exists in the HashSet\n",
    "int employeeToCheck = 1004;\n",
    "bool exists = employeeIds.Contains(employeeToCheck);\n",
    "\n",
    "// Display the result\n",
    "if (exists)\n",
    "{\n",
    "    Console.WriteLine($\"Employee ID {employeeToCheck} exists.\");\n",
    "}\n",
    "else\n",
    "{\n",
    "    Console.WriteLine($\"Employee ID {employeeToCheck} does not exist.\");\n",
    "}\n",
    "\n",
    "Console.ReadLine();"
   ]
  },
  {
   "cell_type": "code",
   "execution_count": 27,
   "metadata": {
    "dotnet_interactive": {
     "language": "csharp"
    },
    "polyglot_notebook": {
     "kernelName": "csharp"
    },
    "vscode": {
     "languageId": "polyglot-notebook"
    }
   },
   "outputs": [
    {
     "name": "stdout",
     "output_type": "stream",
     "text": [
      "Unique invoices count: 2\r\n"
     ]
    }
   ],
   "source": [
    "public class Invoice\n",
    "{\n",
    "    public int InvoiceNumber { get; set; }\n",
    "    public string CustomerName { get; set; }\n",
    "\n",
    "    public override bool Equals(object obj)\n",
    "    {\n",
    "        if (obj == null || GetType() != obj.GetType())\n",
    "            return false;\n",
    "\n",
    "        Invoice otherInvoice = (Invoice)obj;\n",
    "        return InvoiceNumber == otherInvoice.InvoiceNumber &&\n",
    "               CustomerName == otherInvoice.CustomerName;\n",
    "    }\n",
    "\n",
    "    public override int GetHashCode()\n",
    "    {\n",
    "        return HashCode.Combine(InvoiceNumber, CustomerName);\n",
    "    }\n",
    "}\n",
    "\n",
    "// Create a HashSet of invoices\n",
    "HashSet<Invoice> invoices = new HashSet<Invoice>();\n",
    "\n",
    "// Create some invoice objects\n",
    "Invoice invoice1 = new Invoice { InvoiceNumber = 1001, CustomerName = \"John Doe\" };\n",
    "Invoice invoice2 = new Invoice { InvoiceNumber = 1002, CustomerName = \"Jane Smith\" };\n",
    "Invoice invoice3 = new Invoice { InvoiceNumber = 1001, CustomerName = \"John Doe\" }; // Duplicate\n",
    "\n",
    "// Add the invoices to the HashSet\n",
    "invoices.Add(invoice1);\n",
    "invoices.Add(invoice2);\n",
    "invoices.Add(invoice3); // Will not be added due to duplicate values\n",
    "\n",
    "// Print the count of unique invoices\n",
    "Console.WriteLine($\"Unique invoices count: {invoices.Count}\"); // Output: 2"
   ]
  },
  {
   "attachments": {},
   "cell_type": "markdown",
   "metadata": {},
   "source": [
    "## Stack"
   ]
  },
  {
   "cell_type": "code",
   "execution_count": 34,
   "metadata": {
    "dotnet_interactive": {
     "language": "csharp"
    },
    "polyglot_notebook": {
     "kernelName": "csharp"
    },
    "vscode": {
     "languageId": "polyglot-notebook"
    }
   },
   "outputs": [
    {
     "name": "stdout",
     "output_type": "stream",
     "text": [
      "Visited page: https://www.example.com\n",
      "Visited page: https://www.example.com/page1\n",
      "Visited page: https://www.example.com/page2\n",
      "Browser History:\n",
      "https://www.example.com/page2\n",
      "https://www.example.com/page1\n",
      "https://www.example.com\n",
      "Navigated back to: https://www.example.com/page1\n",
      "Browser History:\n",
      "https://www.example.com/page1\n",
      "https://www.example.com\n"
     ]
    }
   ],
   "source": [
    "class Browser\n",
    "{\n",
    "    private Stack<string> history;\n",
    "\n",
    "    public Browser()\n",
    "    {\n",
    "        history = new Stack<string>();\n",
    "    }\n",
    "\n",
    "    public void VisitPage(string url)\n",
    "    {\n",
    "        // Add the visited URL to the history stack\n",
    "        history.Push(url);\n",
    "        Console.WriteLine($\"Visited page: {url}\");\n",
    "    }\n",
    "\n",
    "    public void GoBack()\n",
    "    {\n",
    "        if (history.Count > 1)\n",
    "        {\n",
    "            // Remove the current page URL from the history stack\n",
    "            history.Pop();\n",
    "            // Get the previous page URL without removing it from the stack\n",
    "            string previousPage = history.Peek();\n",
    "            Console.WriteLine($\"Navigated back to: {previousPage}\");\n",
    "        }\n",
    "        else\n",
    "        {\n",
    "            Console.WriteLine(\"Cannot go back. No more pages in history.\");\n",
    "        }\n",
    "    }\n",
    "\n",
    "    public void PrintHistory()\n",
    "    {\n",
    "        Console.WriteLine(\"Browser History:\");\n",
    "        foreach (var url in history)\n",
    "        {\n",
    "            Console.WriteLine(url);\n",
    "        }\n",
    "    }\n",
    "}\n",
    "\n",
    "Browser browser = new Browser();\n",
    "\n",
    "browser.VisitPage(\"https://www.example.com\");\n",
    "browser.VisitPage(\"https://www.example.com/page1\");\n",
    "browser.VisitPage(\"https://www.example.com/page2\");\n",
    "\n",
    "browser.PrintHistory();\n",
    "\n",
    "browser.GoBack();\n",
    "\n",
    "browser.PrintHistory();"
   ]
  },
  {
   "attachments": {},
   "cell_type": "markdown",
   "metadata": {},
   "source": [
    "## Queue"
   ]
  },
  {
   "cell_type": "code",
   "execution_count": 39,
   "metadata": {
    "dotnet_interactive": {
     "language": "csharp"
    },
    "polyglot_notebook": {
     "kernelName": "csharp"
    },
    "vscode": {
     "languageId": "polyglot-notebook"
    }
   },
   "outputs": [
    {
     "name": "stdout",
     "output_type": "stream",
     "text": [
      "Dequeued element: Apple\n",
      "Front element: Banana\n",
      "Queue elements:\n",
      "Banana\n",
      "Cherry\n"
     ]
    }
   ],
   "source": [
    " Queue<string> queue = new Queue<string>();\n",
    "\n",
    "// Enqueue elements\n",
    "queue.Enqueue(\"Apple\");\n",
    "queue.Enqueue(\"Banana\");\n",
    "queue.Enqueue(\"Cherry\");\n",
    "\n",
    "// Dequeue elements\n",
    "string firstElement = queue.Dequeue();\n",
    "Console.WriteLine($\"Dequeued element: {firstElement}\");\n",
    "\n",
    "// Peek at the front element\n",
    "string frontElement = queue.Peek();\n",
    "Console.WriteLine($\"Front element: {frontElement}\");\n",
    "\n",
    "// Iterate over the queue\n",
    "Console.WriteLine(\"Queue elements:\");\n",
    "foreach (string element in queue)\n",
    "{\n",
    "    Console.WriteLine(element);\n",
    "}"
   ]
  },
  {
   "attachments": {},
   "cell_type": "markdown",
   "metadata": {},
   "source": [
    "### Exercise"
   ]
  },
  {
   "cell_type": "code",
   "execution_count": 33,
   "metadata": {
    "vscode": {
     "languageId": "polyglot-notebook"
    }
   },
   "outputs": [
    {
     "name": "stdout",
     "output_type": "stream",
     "text": [
      "Editor state saved.\n",
      "Current content: Hello World\n",
      "Undo successful.\n",
      "Current content: Hello\n"
     ]
    }
   ],
   "source": [
    "using System;\n",
    "using System.Collections.Generic;\n",
    "\n",
    "public class EditorState\n",
    "{\n",
    "    public string Content { get; }\n",
    "\n",
    "    public EditorState(string content)\n",
    "    {\n",
    "        Content = content;\n",
    "    }\n",
    "}\n",
    "\n",
    "public class Editor\n",
    "{\n",
    "    private Stack<EditorState> history;\n",
    "    private string content;\n",
    "\n",
    "    public Editor()\n",
    "    {\n",
    "        history = new Stack<EditorState>();\n",
    "        content = string.Empty;\n",
    "    }\n",
    "\n",
    "    public void Type(string text)\n",
    "    {\n",
    "        content += text;\n",
    "    }\n",
    "\n",
    "    public void Save()\n",
    "    {\n",
    "        history.Push(new EditorState(content));\n",
    "        Console.WriteLine(\"Editor state saved.\");\n",
    "    }\n",
    "\n",
    "    public void Undo()\n",
    "    {\n",
    "        if (history.Count > 0)\n",
    "        {\n",
    "            EditorState previousState = history.Pop();\n",
    "            content = previousState.Content;\n",
    "            Console.WriteLine(\"Undo successful.\");\n",
    "        }\n",
    "        else\n",
    "        {\n",
    "            Console.WriteLine(\"Nothing to undo.\");\n",
    "        }\n",
    "    }\n",
    "\n",
    "    public void PrintContent()\n",
    "    {\n",
    "        Console.WriteLine(\"Current content: \" + content);\n",
    "    }\n",
    "}\n",
    "\n",
    "Editor editor = new Editor();\n",
    "\n",
    "editor.Type(\"Hello\");\n",
    "editor.Save(); // Editor state saved.\n",
    "editor.Type(\" World\");\n",
    "editor.PrintContent(); // Current content: Hello World\n",
    "\n",
    "editor.Undo(); // Undo successful.\n",
    "editor.PrintContent(); // Current content: Hello\n",
    "\n",
    "editor.Undo(); // Nothing to undo."
   ]
  },
  {
   "attachments": {},
   "cell_type": "markdown",
   "metadata": {},
   "source": [
    "### Exercise\n",
    "Implement a concurrent task manager that allows adding and executing tasks concurrently. The task manager should use a concurrent queue to store and process tasks in parallel.\n",
    "\n",
    "1. Create a class named ConcurrentTaskManager with the following methods:\n",
    "\n",
    "- void AddTask(Action task): Adds a task to the task manager. (Action is a data type used to represent a function with void return)\n",
    "- void ExecuteTasks(): Executes all the tasks in parallel.\n",
    "\n",
    "2. Inside the ConcurrentTaskManager class, declare a `private ConcurrentQueue<Action>` variable named taskQueue to store the tasks.\n",
    "3. Implement the methods as follows:\n",
    "- In the AddTask method, enqueue the provided task to the taskQueue.\n",
    "- In the ExecuteTasks method, use the `Parallel.ForEach` method to iterate over the taskQueue and execute the tasks in parallel. Be sure to handle any exceptions that may occur during task execution.\n",
    "4. Test the ConcurrentTaskManager class by adding multiple tasks and executing them concurrently."
   ]
  },
  {
   "cell_type": "code",
   "execution_count": 40,
   "metadata": {
    "dotnet_interactive": {
     "language": "csharp"
    },
    "polyglot_notebook": {
     "kernelName": "csharp"
    },
    "vscode": {
     "languageId": "polyglot-notebook"
    }
   },
   "outputs": [
    {
     "name": "stdout",
     "output_type": "stream",
     "text": [
      "Task 1 executing...\n",
      "Task 2 executing...\n",
      "Task 3 executing...\n",
      "All tasks executed.\n"
     ]
    }
   ],
   "source": [
    "using System.Collections.Concurrent;\n",
    "using System.Threading.Tasks;\n",
    "\n",
    "public class ConcurrentTaskManager\n",
    "{\n",
    "    private ConcurrentQueue<Action> taskQueue = new ConcurrentQueue<Action>();\n",
    "\n",
    "    public void AddTask(Action task)\n",
    "    {\n",
    "        taskQueue.Enqueue(task);\n",
    "    }\n",
    "\n",
    "    public void ExecuteTasks()\n",
    "    {\n",
    "        Parallel.ForEach(taskQueue, task =>\n",
    "        {\n",
    "            try\n",
    "            {\n",
    "                task.Invoke();\n",
    "            }\n",
    "            catch (Exception ex)\n",
    "            {\n",
    "                Console.WriteLine($\"Task execution error: {ex.Message}\");\n",
    "            }\n",
    "        });\n",
    "    }\n",
    "}\n",
    "\n",
    "ConcurrentTaskManager taskManager = new ConcurrentTaskManager();\n",
    "\n",
    "// Add tasks to the task manager\n",
    "taskManager.AddTask(() => Console.WriteLine(\"Task 1 executing...\"));\n",
    "taskManager.AddTask(() => Console.WriteLine(\"Task 2 executing...\"));\n",
    "taskManager.AddTask(() => Console.WriteLine(\"Task 3 executing...\"));\n",
    "\n",
    "// Execute tasks concurrently\n",
    "taskManager.ExecuteTasks();\n",
    "\n",
    "Console.WriteLine(\"All tasks executed.\");"
   ]
  }
 ],
 "metadata": {
  "language_info": {
   "name": "python"
  },
  "orig_nbformat": 4
 },
 "nbformat": 4,
 "nbformat_minor": 2
}
