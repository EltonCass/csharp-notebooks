{
 "cells": [
  {
   "cell_type": "code",
   "execution_count": 1,
   "metadata": {
    "dotnet_interactive": {
     "language": "csharp"
    },
    "polyglot_notebook": {
     "kernelName": "csharp"
    },
    "vscode": {
     "languageId": "polyglot-notebook"
    }
   },
   "outputs": [
    {
     "name": "stdout",
     "output_type": "stream",
     "text": [
      "Name: Example, Price: 100, Description: This is an example product.\r\n"
     ]
    }
   ],
   "source": [
    "public class Product\n",
    "{\n",
    "    public string Name { get; set; }\n",
    "    public int Price { get; set; }\n",
    "    public string Description { get; set; }\n",
    "\n",
    "    public override string ToString() => $\"Name: {Name}, Price: {Price}, Description: {Description}\";\n",
    "}\n",
    "\n",
    "// Builder interface\n",
    "public interface IProductBuilder\n",
    "{\n",
    "    IProductBuilder SetName(string name);\n",
    "    IProductBuilder SetPrice(int price);\n",
    "    IProductBuilder SetDescription(string description);\n",
    "    Product Build();\n",
    "}\n",
    "\n",
    "// Concrete builder\n",
    "public class ProductBuilder : IProductBuilder\n",
    "{\n",
    "    private Product product;\n",
    "\n",
    "    public ProductBuilder()\n",
    "    {\n",
    "        product = new Product();\n",
    "    }\n",
    "\n",
    "    public IProductBuilder SetName(string name)\n",
    "    {\n",
    "        product.Name = name;\n",
    "        return this;\n",
    "    }\n",
    "\n",
    "    public IProductBuilder SetPrice(int price)\n",
    "    {\n",
    "        product.Price = price;\n",
    "        return this;\n",
    "    }\n",
    "\n",
    "    public IProductBuilder SetDescription(string description)\n",
    "    {\n",
    "        product.Description = description;\n",
    "        return this;\n",
    "    }\n",
    "\n",
    "    public Product Build()\n",
    "    {\n",
    "        return product;\n",
    "    }\n",
    "}\n",
    "\n",
    "// Usage\n",
    "var builder = new ProductBuilder();\n",
    "var product = builder\n",
    "    .SetName(\"Example\")\n",
    "    .SetPrice(100)\n",
    "    .SetDescription(\"This is an example product.\")\n",
    "    .Build();\n",
    "\n",
    "Console.WriteLine(product.ToString());"
   ]
  }
 ],
 "metadata": {
  "language_info": {
   "name": "python"
  },
  "orig_nbformat": 4
 },
 "nbformat": 4,
 "nbformat_minor": 2
}
