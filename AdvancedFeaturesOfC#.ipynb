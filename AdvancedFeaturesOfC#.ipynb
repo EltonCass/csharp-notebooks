{
 "cells": [
  {
   "attachments": {},
   "cell_type": "markdown",
   "metadata": {},
   "source": [
    "# Advanced features of C#\n",
    "## Lambda expressions"
   ]
  },
  {
   "cell_type": "code",
   "execution_count": 26,
   "metadata": {
    "dotnet_interactive": {
     "language": "csharp"
    },
    "polyglot_notebook": {
     "kernelName": "csharp"
    },
    "vscode": {
     "languageId": "polyglot-notebook"
    }
   },
   "outputs": [],
   "source": [
    "Func<int, int> square = delegate(int x)\n",
    "{\n",
    "    return x * x;\n",
    "};\n",
    "\n",
    "int result = square(5); // Output: 25\n",
    "\n",
    "\n",
    "Func<int, int> squareLambda = x => x * x;\n",
    "\n",
    "int resultLambda = squareLambda(5); // Output: 25"
   ]
  },
  {
   "attachments": {},
   "cell_type": "markdown",
   "metadata": {},
   "source": [
    "### Lamdas outside of C#"
   ]
  },
  {
   "cell_type": "code",
   "execution_count": 27,
   "metadata": {
    "dotnet_interactive": {
     "language": "fsharp"
    },
    "polyglot_notebook": {
     "kernelName": "fsharp"
    },
    "vscode": {
     "languageId": "polyglot-notebook"
    }
   },
   "outputs": [
    {
     "name": "stdout",
     "output_type": "stream",
     "text": [
      "[2; 4]\n"
     ]
    }
   ],
   "source": [
    "// Inspired partially by F# Lambdas\n",
    "let numbers = [1; 2; 3; 4; 5]\n",
    "\n",
    "// Filter even numbers using a Lambda expression\n",
    "let evenNumbers = numbers |> List.filter (fun x -> x % 2 = 0)\n",
    "\n",
    "// Output: [2; 4]\n",
    "printfn \"%A\" evenNumbers"
   ]
  },
  {
   "attachments": {},
   "cell_type": "markdown",
   "metadata": {},
   "source": [
    "## Anonymous types"
   ]
  },
  {
   "cell_type": "code",
   "execution_count": 28,
   "metadata": {
    "dotnet_interactive": {
     "language": "csharp"
    },
    "polyglot_notebook": {
     "kernelName": "csharp"
    },
    "vscode": {
     "languageId": "polyglot-notebook"
    }
   },
   "outputs": [],
   "source": [
    "var person = new { Name = \"John\", Age = 30 };\n",
    "\n",
    "// Perform non-destructive mutation\n",
    "var updatedPerson = new { person.Name, Age = person.Age + 1 };\n",
    "var newPerson = person with {Age = 40};\n",
    "var newPerson2 = person with {Name = \"Nancy\"};"
   ]
  },
  {
   "attachments": {},
   "cell_type": "markdown",
   "metadata": {},
   "source": [
    "### Using anonymous types in LINQ"
   ]
  },
  {
   "cell_type": "code",
   "execution_count": 29,
   "metadata": {
    "dotnet_interactive": {
     "language": "csharp"
    },
    "polyglot_notebook": {
     "kernelName": "csharp"
    },
    "vscode": {
     "languageId": "polyglot-notebook"
    }
   },
   "outputs": [
    {
     "name": "stdout",
     "output_type": "stream",
     "text": [
      "I'm John and I have 30 years old\n",
      "I'm Alice and I have 25 years old\n",
      "I'm Bob and I have 35 years old\n"
     ]
    }
   ],
   "source": [
    "class Person\n",
    "{\n",
    "    public string Name { get; set; }\n",
    "    public int Age { get; set; }\n",
    "    public string Country { get; set; }\n",
    "    public string Telephone { get; set; }\n",
    "    public string Email { get; set; }\n",
    "}\n",
    "\n",
    "var persons = new List<Person>\n",
    "{\n",
    "    new Person { Name = \"John\", Age = 30 },\n",
    "    new Person { Name = \"Alice\", Age = 25 },\n",
    "    new Person { Name = \"Bob\", Age = 35 }\n",
    "};\n",
    "\n",
    "// Selecting properties with LINQ and anonymous types\n",
    "var selectedPersons = persons.Select(p => new { p.Name, p.Age });\n",
    "\n",
    "foreach (var person in selectedPersons)\n",
    "{\n",
    "    Console.WriteLine($\"I'm {person.Name} and I have {person.Age} years old\");\n",
    "}"
   ]
  },
  {
   "attachments": {},
   "cell_type": "markdown",
   "metadata": {},
   "source": [
    "## Tuples\n",
    "### Positional notation"
   ]
  },
  {
   "cell_type": "code",
   "execution_count": 30,
   "metadata": {
    "dotnet_interactive": {
     "language": "csharp"
    },
    "polyglot_notebook": {
     "kernelName": "csharp"
    },
    "vscode": {
     "languageId": "polyglot-notebook"
    }
   },
   "outputs": [],
   "source": [
    "var person = (\"John\", 30, true);\n",
    "var name = person.Item1;\n",
    "var age = person.Item2;\n",
    "var isEmployed = person.Item3;"
   ]
  },
  {
   "attachments": {},
   "cell_type": "markdown",
   "metadata": {},
   "source": [
    "### Named notation"
   ]
  },
  {
   "cell_type": "code",
   "execution_count": 31,
   "metadata": {
    "dotnet_interactive": {
     "language": "csharp"
    },
    "polyglot_notebook": {
     "kernelName": "csharp"
    },
    "vscode": {
     "languageId": "polyglot-notebook"
    }
   },
   "outputs": [],
   "source": [
    "var person = (Name: \"John\", Age: 30, IsEmployed: true);\n",
    "var name = person.Name;\n",
    "var age = person.Age;\n",
    "var isEmployed = person.IsEmployed;"
   ]
  },
  {
   "attachments": {},
   "cell_type": "markdown",
   "metadata": {},
   "source": [
    "### Destructuring"
   ]
  },
  {
   "cell_type": "code",
   "execution_count": 32,
   "metadata": {
    "dotnet_interactive": {
     "language": "csharp"
    },
    "polyglot_notebook": {
     "kernelName": "csharp"
    },
    "vscode": {
     "languageId": "polyglot-notebook"
    }
   },
   "outputs": [],
   "source": [
    "var person = (\"John\", 30, true);\n",
    "var (name, age, isEmployed) = person;"
   ]
  },
  {
   "attachments": {},
   "cell_type": "markdown",
   "metadata": {},
   "source": [
    "### Tuples as return types"
   ]
  },
  {
   "cell_type": "code",
   "execution_count": 33,
   "metadata": {
    "dotnet_interactive": {
     "language": "csharp"
    },
    "polyglot_notebook": {
     "kernelName": "csharp"
    },
    "vscode": {
     "languageId": "polyglot-notebook"
    }
   },
   "outputs": [],
   "source": [
    "(string Name, int Age) GetPersonDetails()\n",
    "{\n",
    "    string name = \"John\";\n",
    "    int age = 30;\n",
    "    return (name, age);\n",
    "}"
   ]
  },
  {
   "attachments": {},
   "cell_type": "markdown",
   "metadata": {},
   "source": [
    "### Using Tuple as a type parameter"
   ]
  },
  {
   "cell_type": "code",
   "execution_count": 34,
   "metadata": {
    "dotnet_interactive": {
     "language": "csharp"
    },
    "polyglot_notebook": {
     "kernelName": "csharp"
    },
    "vscode": {
     "languageId": "polyglot-notebook"
    }
   },
   "outputs": [
    {
     "name": "stdout",
     "output_type": "stream",
     "text": [
      "First person: Name - John, Age - 30\n",
      "Second person: Name - Jane, Age - 25\n"
     ]
    }
   ],
   "source": [
    "public class Pair<T>\n",
    "{\n",
    "    public T First { get; set; }\n",
    "    public T Second { get; set; }\n",
    "}\n",
    "\n",
    "Pair<(string, int)> person = new Pair<(string, int)>();\n",
    "person.First = (\"John\", 30);\n",
    "person.Second = (\"Jane\", 25);\n",
    "\n",
    "Console.WriteLine($\"First person: Name - {person.First.Item1}, Age - {person.First.Item2}\");\n",
    "Console.WriteLine($\"Second person: Name - {person.Second.Item1}, Age - {person.Second.Item2}\");"
   ]
  },
  {
   "attachments": {},
   "cell_type": "markdown",
   "metadata": {},
   "source": [
    "### Deconstruct method"
   ]
  },
  {
   "cell_type": "code",
   "execution_count": 35,
   "metadata": {
    "dotnet_interactive": {
     "language": "csharp"
    },
    "polyglot_notebook": {
     "kernelName": "csharp"
    },
    "vscode": {
     "languageId": "polyglot-notebook"
    }
   },
   "outputs": [
    {
     "name": "stdout",
     "output_type": "stream",
     "text": [
      "Name: John\n",
      "Age: 30\n"
     ]
    }
   ],
   "source": [
    "public class Person\n",
    "{\n",
    "    public string Name { get; set; }\n",
    "    public int Age { get; set; }\n",
    "\n",
    "    public void Deconstruct(out string name, out int age)\n",
    "    {\n",
    "        name = Name;\n",
    "        age = Age;\n",
    "    }\n",
    "}\n",
    "\n",
    "var (name, age) = new Person { Name = \"John\", Age = 30 };\n",
    "\n",
    "Console.WriteLine($\"Name: {name}\");\n",
    "Console.WriteLine($\"Age: {age}\");"
   ]
  },
  {
   "attachments": {},
   "cell_type": "markdown",
   "metadata": {},
   "source": [
    "## Pattern matching\n",
    "### Constant pattern"
   ]
  },
  {
   "cell_type": "code",
   "execution_count": 36,
   "metadata": {
    "dotnet_interactive": {
     "language": "csharp"
    },
    "polyglot_notebook": {
     "kernelName": "csharp"
    },
    "vscode": {
     "languageId": "polyglot-notebook"
    }
   },
   "outputs": [],
   "source": [
    "var output = 4 switch\n",
    "{\n",
    "    1 => \"one\",\n",
    "    2 => \"two\",\n",
    "    3 => \"three\",\n",
    "    4 => \"four\",\n",
    "    5 => \"five\",\n",
    "};\n",
    "// output: four"
   ]
  },
  {
   "attachments": {},
   "cell_type": "markdown",
   "metadata": {},
   "source": [
    "### Relation Pattern with tuple"
   ]
  },
  {
   "cell_type": "code",
   "execution_count": 38,
   "metadata": {
    "dotnet_interactive": {
     "language": "csharp"
    },
    "polyglot_notebook": {
     "kernelName": "csharp"
    },
    "vscode": {
     "languageId": "polyglot-notebook"
    }
   },
   "outputs": [
    {
     "name": "stdout",
     "output_type": "stream",
     "text": [
      "Positive number: 5\r\n"
     ]
    }
   ],
   "source": [
    "int x = 5;\n",
    "int y = 3;\n",
    "\n",
    "var result = (x, y) switch\n",
    "{\n",
    "    (1, 1) => \"One and One\",\n",
    "    (2, var n) when n > 0 => $\"Two and a positive number: {n}\",\n",
    "    (var m, _) when m > 0 => $\"Positive number: {m}\",\n",
    "    _ => \"Unknown\"\n",
    "};\n",
    "\n",
    "Console.WriteLine(result); // Output: \"Positive number: 5\""
   ]
  },
  {
   "attachments": {},
   "cell_type": "markdown",
   "metadata": {},
   "source": [
    "### Property pattern"
   ]
  },
  {
   "cell_type": "code",
   "execution_count": null,
   "metadata": {
    "dotnet_interactive": {
     "language": "csharp"
    },
    "polyglot_notebook": {
     "kernelName": "csharp"
    },
    "vscode": {
     "languageId": "polyglot-notebook"
    }
   },
   "outputs": [],
   "source": [
    "var person = new Person { Name = \"John\", Age = 30 };\n",
    "\n",
    "var result = person switch\n",
    "{\n",
    "    { Name: \"John\", Age: var age } when age > 25 => \"John, above 25\",\n",
    "    { Name: \"John\" } => \"John, below 25\",\n",
    "    _ => \"Unknown\"\n",
    "};\n",
    "\n",
    "Console.WriteLine(result);"
   ]
  },
  {
   "attachments": {},
   "cell_type": "markdown",
   "metadata": {},
   "source": [
    "### Variable pattern"
   ]
  },
  {
   "cell_type": "code",
   "execution_count": 39,
   "metadata": {
    "dotnet_interactive": {
     "language": "csharp"
    },
    "polyglot_notebook": {
     "kernelName": "csharp"
    },
    "vscode": {
     "languageId": "polyglot-notebook"
    }
   },
   "outputs": [],
   "source": [
    "var greetWithName = true;\n",
    "var output = \"Mrs. Kim\" switch\n",
    "{\n",
    "    _ when greetWithName == false => $\"Hi\",\n",
    "    \"Tim\" => \"Hi Tim!\",\n",
    "    var str when str.StartsWith(\"Mrs.\") || str.StartsWith(\"Mr.\") => $\"Greetings {str}\",\n",
    "    var str => $\"Hello {str}\",\n",
    "};\n",
    "// output: Greetings Mrs. Kim"
   ]
  },
  {
   "attachments": {},
   "cell_type": "markdown",
   "metadata": {},
   "source": [
    "### Nested properties pattern"
   ]
  },
  {
   "cell_type": "code",
   "execution_count": 40,
   "metadata": {
    "dotnet_interactive": {
     "language": "csharp"
    },
    "polyglot_notebook": {
     "kernelName": "csharp"
    },
    "vscode": {
     "languageId": "polyglot-notebook"
    }
   },
   "outputs": [],
   "source": [
    "var output = new Member(\"Tim Deschryver\", new MemberDetails(8, false)) switch\n",
    "{\n",
    "    { Details: { Blocked: true } } => Array.Empty<string>(),\n",
    "    { Details: { MonthsSubscribed: < 3 } } => new[] { \"comments\" },\n",
    "    { Details: { MonthsSubscribed: < 9 } } => new[] { \"comments\", \"mention\" },\n",
    "    _ => new[] { \"comments\", \"mention\", \"ping\" },\n",
    "};\n",
    "// output: comments, mention\n",
    " \n",
    "record Member(string Name, MemberDetails Details);\n",
    "record MemberDetails(int MonthsSubscribed, bool Blocked);"
   ]
  },
  {
   "attachments": {},
   "cell_type": "markdown",
   "metadata": {},
   "source": [
    "### Combined patterns"
   ]
  },
  {
   "cell_type": "code",
   "execution_count": 42,
   "metadata": {
    "dotnet_interactive": {
     "language": "csharp"
    },
    "polyglot_notebook": {
     "kernelName": "csharp"
    },
    "vscode": {
     "languageId": "polyglot-notebook"
    }
   },
   "outputs": [],
   "source": [
    "// retrieve the rate of an appointment\n",
    "var holidays = new DateTime[] {new DateTime(2021, 12, 25)};\n",
    "var output = new Appointment(DayOfWeek.Friday, new DateTime(2021, 09, 10, 22, 15, 0), false) switch\n",
    "{\n",
    "    { SocialRate: true } => 5,\n",
    "    { Day: DayOfWeek.Sunday } => 25,\n",
    "    Appointment a when holidays.Contains(a.Time) => 25,\n",
    "    { Day: DayOfWeek.Saturday } => 20,\n",
    "    { Day: DayOfWeek.Friday, Time.Hour: > 12 } => 20,\n",
    "    { Time.Hour: < 8 or >= 18 } => 15,\n",
    "    _ => 10,\n",
    "};\n",
    "// output: 20\n",
    " \n",
    "record Appointment(DayOfWeek Day, DateTime Time, bool SocialRate);"
   ]
  }
 ],
 "metadata": {
  "language_info": {
   "name": "python"
  },
  "orig_nbformat": 4
 },
 "nbformat": 4,
 "nbformat_minor": 2
}
