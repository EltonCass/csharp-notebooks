{
 "cells": [
  {
   "attachments": {},
   "cell_type": "markdown",
   "metadata": {},
   "source": [
    "# Equality of classes\n",
    "In C#, the equality of classes is determined by comparing their references by default. This means that two different instances of a class are considered unequal, even if their properties or fields have the same values."
   ]
  },
  {
   "cell_type": "code",
   "execution_count": 3,
   "metadata": {
    "dotnet_interactive": {
     "language": "csharp"
    },
    "polyglot_notebook": {
     "kernelName": "csharp"
    },
    "vscode": {
     "languageId": "polyglot-notebook"
    }
   },
   "outputs": [
    {
     "name": "stdout",
     "output_type": "stream",
     "text": [
      "Name : Louis Nelson, Age: 30 is not equal to Name : Mike Nelson, Age: 32\n",
      "Name : Louis Nelson, Age: 30 is not equal to Name : Louis Nelson, Age: 30\n",
      "Name : Louis Nelson, Age: 30 is equal to Name : Louis Nelson, Age: 30\n"
     ]
    }
   ],
   "source": [
    "public class Person\n",
    "{\n",
    "    public string Name { get; init; }\n",
    "    public int Age { get; init; }\n",
    "\n",
    "    public Person(string name, int age)\n",
    "    {\n",
    "        Name = name;\n",
    "        Age = age;\n",
    "    }\n",
    "\n",
    "    public override string ToString() => $\"Name : {Name}, Age: {Age}\";\n",
    "}\n",
    "\n",
    "var person1 = new Person(\"Louis Nelson\", 30);\n",
    "var person2 = new Person(\"Mike Nelson\", 32);\n",
    "var person3 = new Person(\"Louis Nelson\", 30);\n",
    "var person4 = person1;\n",
    "\n",
    "string IsEqualText(Person personA,  Person personB) => personA == personB ? \"equal\" : \"not equal\";\n",
    "\n",
    "Action<Person, Person> PrintMessage = (personA, personB)\n",
    "    => Console.WriteLine($\"{personA} is {IsEqualText(personA, personB)} to {personB}\");\n",
    "\n",
    "PrintMessage(person1, person2);\n",
    "PrintMessage(person1, person3);\n",
    "PrintMessage(person1, person4);"
   ]
  },
  {
   "attachments": {},
   "cell_type": "markdown",
   "metadata": {},
   "source": [
    "## Custom equality\n",
    "To define custom equality for your classes, you need to override the Equals method and the GetHashCode method. \n",
    "By providing custom equality implementation, you can control how instances of your class are compared and determine when they should be considered equal or not based on your specific requirements.\n",
    "With this implementation, you can also use the `==` and `!=` operators to compare Person objects for equality."
   ]
  },
  {
   "cell_type": "code",
   "execution_count": 5,
   "metadata": {
    "dotnet_interactive": {
     "language": "csharp"
    },
    "polyglot_notebook": {
     "kernelName": "csharp"
    },
    "vscode": {
     "languageId": "polyglot-notebook"
    }
   },
   "outputs": [
    {
     "name": "stdout",
     "output_type": "stream",
     "text": [
      "Name : Louis Nelson, Age: 30 is not equal to Name : Mike Nelson, Age: 32\n",
      "Name : Louis Nelson, Age: 30 is equal to Name : Louis Nelson, Age: 30\n",
      "Name : Louis Nelson, Age: 30 is equal to Name : Louis Nelson, Age: 30\n"
     ]
    }
   ],
   "source": [
    "public class Person : IEquatable<Person>\n",
    "{\n",
    "    public string Name { get; init; }\n",
    "    public int Age { get; init; }\n",
    "\n",
    "    public Person(string name, int age)\n",
    "    {\n",
    "        Name = name;\n",
    "        Age = age;\n",
    "    }\n",
    "\n",
    "    public override bool Equals(object obj)\n",
    "    {\n",
    "        return Equals(obj as Person);\n",
    "    }\n",
    "\n",
    "    public bool Equals(Person other)\n",
    "    {\n",
    "        return other != null &&\n",
    "               Name == other.Name &&\n",
    "               Age == other.Age;\n",
    "    }\n",
    "\n",
    "    public override int GetHashCode()\n",
    "    {\n",
    "        return HashCode.Combine(Name, Age);\n",
    "    }\n",
    "\n",
    "    public static bool operator ==(Person left, Person right)\n",
    "    {\n",
    "        return EqualityComparer<Person>.Default.Equals(left, right);\n",
    "    }\n",
    "\n",
    "    public static bool operator !=(Person left, Person right)\n",
    "    {\n",
    "        return !(left == right);\n",
    "    }\n",
    "\n",
    "    public override string ToString() => $\"Name : {Name}, Age: {Age}\";\n",
    "}\n",
    "\n",
    "var person1 = new Person(\"Louis Nelson\", 30);\n",
    "var person2 = new Person(\"Mike Nelson\", 32);\n",
    "var person3 = new Person(\"Louis Nelson\", 30);\n",
    "var person4 = person1;\n",
    "\n",
    "string IsEqualText(Person personA,  Person personB) => personA == personB ? \"equal\" : \"not equal\";\n",
    "\n",
    "Action<Person, Person> PrintMessage = (personA, personB)\n",
    "    => Console.WriteLine($\"{personA} is {IsEqualText(personA, personB)} to {personB}\");\n",
    "\n",
    "PrintMessage(person1, person2);\n",
    "PrintMessage(person1, person3);\n",
    "PrintMessage(person1, person4);"
   ]
  }
 ],
 "metadata": {
  "language_info": {
   "name": "python"
  },
  "orig_nbformat": 4
 },
 "nbformat": 4,
 "nbformat_minor": 2
}
