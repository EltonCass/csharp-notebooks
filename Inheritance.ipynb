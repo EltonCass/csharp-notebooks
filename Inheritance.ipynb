{
 "cells": [
  {
   "attachments": {},
   "cell_type": "markdown",
   "metadata": {},
   "source": [
    "# Inheritance"
   ]
  },
  {
   "cell_type": "code",
   "execution_count": null,
   "metadata": {
    "dotnet_interactive": {
     "language": "csharp"
    },
    "polyglot_notebook": {
     "kernelName": "csharp"
    }
   },
   "outputs": [],
   "source": [
    "public abstract record Person(string FirstName, string LastName);\n",
    "\n",
    "public record Teacher(string FirstName, string LastName, int Grade)\n",
    "    : Person(FirstName, LastName);\n",
    "    \n",
    "public record Student(string FirstName, string LastName, int Grade)\n",
    "    : Person(FirstName, LastName);\n",
    "\n",
    "public static void Main()\n",
    "{\n",
    "    Person teacher = new Teacher(\"Nancy\", \"Davolio\", 3);\n",
    "    var (firstName, lastName) = teacher; // Doesn't deconstruct Grade\n",
    "    Console.WriteLine($\"{firstName}, {lastName}\");// output: Nancy, Davolio\n",
    "\n",
    "    var (fName, lName, grade) = (Teacher)teacher;\n",
    "    Console.WriteLine($\"{fName}, {lName}, {grade}\");// output: Nancy, Davolio, 3\n",
    "}"
   ]
  },
  {
   "attachments": {},
   "cell_type": "markdown",
   "metadata": {},
   "source": [
    "## Override"
   ]
  },
  {
   "cell_type": "code",
   "execution_count": null,
   "metadata": {
    "dotnet_interactive": {
     "language": "csharp"
    },
    "polyglot_notebook": {
     "kernelName": "csharp"
    }
   },
   "outputs": [],
   "source": [
    "class Animal\n",
    "{\n",
    "    public virtual void MakeSound()\n",
    "    {\n",
    "        Console.WriteLine(\"The animal makes a sound.\");\n",
    "    }\n",
    "}\n",
    "\n",
    "class Dog : Animal\n",
    "{\n",
    "    public override void MakeSound()\n",
    "    {\n",
    "        Console.WriteLine(\"The dog barks.\");\n",
    "    }\n",
    "}\n",
    "\n",
    "// Usage:\n",
    "Animal animal = new Animal();\n",
    "animal.MakeSound();  // Output: \"The animal makes a sound.\"\n",
    "\n",
    "Dog dog = new Dog();\n",
    "dog.MakeSound();     // Output: \"The dog barks.\""
   ]
  }
 ],
 "metadata": {
  "kernelspec": {
   "display_name": ".NET (C#)",
   "language": "C#",
   "name": ".net-csharp"
  },
  "language_info": {
   "name": "polyglot-notebook"
  },
  "polyglot_notebook": {
   "kernelInfo": {
    "defaultKernelName": "csharp",
    "items": [
     {
      "aliases": [
       "C#",
       "c#"
      ],
      "languageName": "C#",
      "name": "csharp"
     },
     {
      "aliases": [
       "frontend"
      ],
      "name": "vscode"
     }
    ]
   }
  }
 },
 "nbformat": 4,
 "nbformat_minor": 2
}
