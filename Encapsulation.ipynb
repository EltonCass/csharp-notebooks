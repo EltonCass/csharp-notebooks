{
 "cells": [
  {
   "attachments": {},
   "cell_type": "markdown",
   "metadata": {},
   "source": [
    "# Encapsulation\n",
    "## Sealed classes"
   ]
  },
  {
   "cell_type": "code",
   "execution_count": 1,
   "metadata": {
    "dotnet_interactive": {
     "language": "csharp"
    },
    "polyglot_notebook": {
     "kernelName": "csharp"
    },
    "vscode": {
     "languageId": "polyglot-notebook"
    }
   },
   "outputs": [
    {
     "name": "stdout",
     "output_type": "stream",
     "text": [
      "The area of the circle is: 78.53981633974483\r\n"
     ]
    }
   ],
   "source": [
    "using System;\n",
    "\n",
    "public sealed class Circle\n",
    "{\n",
    "    private readonly double radius;\n",
    "\n",
    "    public Circle(double radius)\n",
    "    {\n",
    "        this.radius = radius;\n",
    "    }\n",
    "\n",
    "    public double CalculateArea()\n",
    "    {\n",
    "        return Math.PI * radius * radius;\n",
    "    }\n",
    "}\n",
    "\n",
    "// public class Oval : Circle\n",
    "// {\n",
    "\n",
    "// }\n",
    "\n",
    "\n",
    "// Create an instance of the sealed class\n",
    "Circle circle = new Circle(5.0);\n",
    "\n",
    "// Call the method on the sealed class\n",
    "double area = circle.CalculateArea();\n",
    "\n",
    "Console.WriteLine($\"The area of the circle is: {area}\");\n"
   ]
  },
  {
   "cell_type": "code",
   "execution_count": 4,
   "metadata": {
    "dotnet_interactive": {
     "language": "csharp"
    },
    "polyglot_notebook": {
     "kernelName": "csharp"
    },
    "vscode": {
     "languageId": "polyglot-notebook"
    }
   },
   "outputs": [
    {
     "name": "stdout",
     "output_type": "stream",
     "text": [
      "Logging message: Error: An exception occurred\n",
      "Logging message: Info: Application started\n"
     ]
    }
   ],
   "source": [
    "using System;\n",
    "\n",
    "public sealed class Logger\n",
    "{\n",
    "    private static Logger instance;\n",
    "\n",
    "    // Private constructor to prevent direct instantiation\n",
    "    private Logger()\n",
    "    {\n",
    "    }\n",
    "\n",
    "    public static Logger Instance\n",
    "    {\n",
    "        get\n",
    "        {\n",
    "            if (instance == null)\n",
    "            {\n",
    "                instance = new Logger();\n",
    "            }\n",
    "            return instance;\n",
    "        }\n",
    "    }\n",
    "\n",
    "    public void LogMessage(string message)\n",
    "    {\n",
    "        // Code to log the message to a file or external service\n",
    "        Console.WriteLine($\"Logging message: {message}\");\n",
    "    }\n",
    "}\n",
    "\n",
    "//public class FileLogger : Logger {}\n",
    "\n",
    "// Access the Logger instance and use it to log messages\n",
    "Logger.Instance.LogMessage(\"Error: An exception occurred\");\n",
    "Logger.Instance.LogMessage(\"Info: Application started\");"
   ]
  },
  {
   "attachments": {},
   "cell_type": "markdown",
   "metadata": {},
   "source": [
    "## Encapsulate collections"
   ]
  },
  {
   "cell_type": "code",
   "execution_count": 1,
   "metadata": {
    "dotnet_interactive": {
     "language": "csharp"
    },
    "polyglot_notebook": {
     "kernelName": "csharp"
    },
    "vscode": {
     "languageId": "polyglot-notebook"
    }
   },
   "outputs": [
    {
     "name": "stdout",
     "output_type": "stream",
     "text": [
      "Added product: iPhone\n",
      "Added product: Laptop\n",
      "Products in the cart:\n",
      "iPhone - $999\n",
      "Laptop - $1499\n"
     ]
    }
   ],
   "source": [
    "using System;\n",
    "using System.Collections.Generic;\n",
    "\n",
    "public class ShoppingCart\n",
    "{\n",
    "    private List<Product> products;\n",
    "\n",
    "    public ShoppingCart()\n",
    "    {\n",
    "        products = new List<Product>();\n",
    "    }\n",
    "\n",
    "    public IReadOnlyList<Product> Products\n",
    "    {\n",
    "        get { return products.AsReadOnly(); }\n",
    "    }\n",
    "\n",
    "    public void AddProduct(Product product)\n",
    "    {\n",
    "        products.Add(product);\n",
    "        Console.WriteLine($\"Added product: {product.Name}\");\n",
    "    }\n",
    "\n",
    "    public void RemoveProduct(Product product)\n",
    "    {\n",
    "        products.Remove(product);\n",
    "        Console.WriteLine($\"Removed product: {product.Name}\");\n",
    "    }\n",
    "}\n",
    "\n",
    "public class Product\n",
    "{\n",
    "    public string Name { get; set; }\n",
    "    public decimal Price { get; set; }\n",
    "}\n",
    "\n",
    "\n",
    "ShoppingCart cart = new ShoppingCart();\n",
    "\n",
    "Product p1 = new Product { Name = \"iPhone\", Price = 999 };\n",
    "Product p2 = new Product { Name = \"Laptop\", Price = 1499 };\n",
    "\n",
    "cart.AddProduct(p1);\n",
    "cart.AddProduct(p2);\n",
    "\n",
    "Console.WriteLine(\"Products in the cart:\");\n",
    "foreach (Product product in cart.Products)\n",
    "{\n",
    "    Console.WriteLine($\"{product.Name} - ${product.Price}\");\n",
    "}"
   ]
  }
 ],
 "metadata": {
  "language_info": {
   "name": "python"
  },
  "orig_nbformat": 4
 },
 "nbformat": 4,
 "nbformat_minor": 2
}
