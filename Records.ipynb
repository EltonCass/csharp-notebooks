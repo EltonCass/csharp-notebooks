{
 "cells": [
  {
   "attachments": {},
   "cell_type": "markdown",
   "metadata": {},
   "source": [
    "# Records"
   ]
  },
  {
   "cell_type": "code",
   "execution_count": null,
   "metadata": {
    "dotnet_interactive": {
     "language": "csharp"
    },
    "polyglot_notebook": {
     "kernelName": "csharp"
    }
   },
   "outputs": [],
   "source": [
    "public class Person\n",
    "{\n",
    "    public string Name { get; init; }\n",
    "    public int Age { get; init; }\n",
    "\n",
    "    public Person(string name, int age)\n",
    "    {\n",
    "        Name = name;\n",
    "        Age = age;\n",
    "    }\n",
    "}\n",
    "\n",
    "public record Person2(string Name, int Age);\n",
    "\n",
    "var p = new Person2(\"Fernando\", 23);"
   ]
  },
  {
   "cell_type": "code",
   "execution_count": 1,
   "metadata": {
    "dotnet_interactive": {
     "language": "csharp"
    },
    "polyglot_notebook": {
     "kernelName": "csharp"
    }
   },
   "outputs": [],
   "source": [
    "public class Person : IEquatable<Person>\n",
    "{\n",
    "    public string Name { get; init; }\n",
    "    public int Age { get; init; }\n",
    "\n",
    "    public Person(string name, int age)\n",
    "    {\n",
    "        Name = name;\n",
    "        Age = age;\n",
    "    }\n",
    "\n",
    "    public override bool Equals(object obj)\n",
    "    {\n",
    "        return Equals(obj as Person);\n",
    "    }\n",
    "\n",
    "    public bool Equals(Person other)\n",
    "    {\n",
    "        return other != null &&\n",
    "               Name == other.Name &&\n",
    "               Age == other.Age;\n",
    "    }\n",
    "\n",
    "    public override int GetHashCode()\n",
    "    {\n",
    "        return HashCode.Combine(Name, Age);\n",
    "    }\n",
    "\n",
    "    public static bool operator ==(Person left, Person right)\n",
    "    {\n",
    "        return EqualityComparer<Person>.Default.Equals(left, right);\n",
    "    }\n",
    "\n",
    "    public static bool operator !=(Person left, Person right)\n",
    "    {\n",
    "        return !(left == right);\n",
    "    }\n",
    "}"
   ]
  },
  {
   "attachments": {},
   "cell_type": "markdown",
   "metadata": {},
   "source": [
    "## Non destructive mutation"
   ]
  },
  {
   "cell_type": "code",
   "execution_count": 1,
   "metadata": {
    "dotnet_interactive": {
     "language": "csharp"
    },
    "polyglot_notebook": {
     "kernelName": "csharp"
    }
   },
   "outputs": [
    {
     "name": "stdout",
     "output_type": "stream",
     "text": [
      "Person { FirstName = Nancy, LastName = Davolio, PhoneNumbers = System.String[] }\n",
      "Person { FirstName = John, LastName = Davolio, PhoneNumbers = System.String[] }\n",
      "False\n",
      "Person { FirstName = Nancy, LastName = Davolio, PhoneNumbers = System.String[] }\n",
      "False\n",
      "True\n"
     ]
    }
   ],
   "source": [
    "public record Person(string FirstName, string LastName)\n",
    "{\n",
    "    public string[] PhoneNumbers { get; init; }\n",
    "}\n",
    "\n",
    "Person person1 = new(\"Nancy\", \"Davolio\") { PhoneNumbers = new string[1] };\n",
    "Console.WriteLine(person1);\n",
    "// output: Person { FirstName = Nancy, LastName = Davolio, PhoneNumbers = System.String[] }\n",
    "\n",
    "Person person2 = person1 with { FirstName = \"John\" };\n",
    "Console.WriteLine(person2);\n",
    "// output: Person { FirstName = John, LastName = Davolio, PhoneNumbers = System.String[] }\n",
    "Console.WriteLine(person1 == person2); // output: False\n",
    "\n",
    "person2 = person1 with { PhoneNumbers = new string[1] };\n",
    "Console.WriteLine(person2);\n",
    "// output: Person { FirstName = Nancy, LastName = Davolio, PhoneNumbers = System.String[] }\n",
    "Console.WriteLine(person1 == person2); // output: False\n",
    "\n",
    "person2 = person1 with { };\n",
    "Console.WriteLine(person1 == person2); // output: True"
   ]
  },
  {
   "attachments": {},
   "cell_type": "markdown",
   "metadata": {},
   "source": [
    "## Equality in inheritance hierarchies"
   ]
  },
  {
   "cell_type": "code",
   "execution_count": 2,
   "metadata": {
    "dotnet_interactive": {
     "language": "csharp"
    },
    "polyglot_notebook": {
     "kernelName": "csharp"
    }
   },
   "outputs": [
    {
     "name": "stdout",
     "output_type": "stream",
     "text": [
      "False\n",
      "True\n"
     ]
    }
   ],
   "source": [
    "public abstract record Person(string FirstName, string LastName);\n",
    "\n",
    "public record Teacher(string FirstName, string LastName, int Grade)\n",
    "    : Person(FirstName, LastName);\n",
    "\n",
    "public record Student(string FirstName, string LastName, int Grade)\n",
    "    : Person(FirstName, LastName);\n",
    "\n",
    "Person teacher = new Teacher(\"Nancy\", \"Davolio\", 3);\n",
    "Person student = new Student(\"Nancy\", \"Davolio\", 3);\n",
    "Console.WriteLine(teacher == student); // output: False\n",
    "\n",
    "Student student2 = new Student(\"Nancy\", \"Davolio\", 3);\n",
    "Console.WriteLine(student2 == student); // output: True"
   ]
  }
 ],
 "metadata": {
  "kernelspec": {
   "display_name": ".NET (C#)",
   "language": "C#",
   "name": ".net-csharp"
  },
  "language_info": {
   "name": "polyglot-notebook"
  },
  "polyglot_notebook": {
   "kernelInfo": {
    "defaultKernelName": "csharp",
    "items": [
     {
      "aliases": [],
      "name": ".NET"
     },
     {
      "aliases": [
       "C#",
       "c#"
      ],
      "languageName": "C#",
      "name": "csharp"
     },
     {
      "aliases": [
       "F#",
       "f#"
      ],
      "languageName": "F#",
      "name": "fsharp"
     },
     {
      "aliases": [],
      "languageName": "HTML",
      "name": "html"
     },
     {
      "aliases": [],
      "languageName": "KQL",
      "name": "kql"
     },
     {
      "aliases": [],
      "languageName": "Mermaid",
      "name": "mermaid"
     },
     {
      "aliases": [
       "powershell"
      ],
      "languageName": "PowerShell",
      "name": "pwsh"
     },
     {
      "aliases": [],
      "languageName": "SQL",
      "name": "sql"
     },
     {
      "aliases": [],
      "name": "value"
     },
     {
      "aliases": [
       "frontend"
      ],
      "name": "vscode"
     }
    ]
   }
  }
 },
 "nbformat": 4,
 "nbformat_minor": 2
}
