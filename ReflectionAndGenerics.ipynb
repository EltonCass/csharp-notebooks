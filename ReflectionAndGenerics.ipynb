{
 "cells": [
  {
   "attachments": {},
   "cell_type": "markdown",
   "metadata": {},
   "source": [
    "# Reflection\n",
    "## Create Generic types"
   ]
  },
  {
   "cell_type": "code",
   "execution_count": 1,
   "metadata": {
    "dotnet_interactive": {
     "language": "csharp"
    },
    "polyglot_notebook": {
     "kernelName": "csharp"
    },
    "vscode": {
     "languageId": "polyglot-notebook"
    }
   },
   "outputs": [],
   "source": [
    "Type listType = typeof(List<>); // Get the Type object of List<T>\n",
    "Type[] typeArguments = { typeof(string) }; // Specify the type argument(s)\n",
    "Type constructedType = listType.MakeGenericType(typeArguments); // Create the constructed type\n",
    "object instance = Activator.CreateInstance(constructedType); // Create an instance of the constructed type\n",
    "List<string> list = (List<string>)instance; // Cast the instance to the appropriate type"
   ]
  },
  {
   "attachments": {},
   "cell_type": "markdown",
   "metadata": {},
   "source": [
    "## Get generic type parameter"
   ]
  },
  {
   "cell_type": "code",
   "execution_count": 3,
   "metadata": {
    "dotnet_interactive": {
     "language": "csharp"
    },
    "polyglot_notebook": {
     "kernelName": "csharp"
    },
    "vscode": {
     "languageId": "polyglot-notebook"
    }
   },
   "outputs": [
    {
     "name": "stdout",
     "output_type": "stream",
     "text": [
      "System.String\r\n"
     ]
    }
   ],
   "source": [
    "Type listType = typeof(List<string>); // Get the Type object of List<string>\n",
    "Type genericArgument = listType.GetGenericArguments()[0]; // Get the first (and only) generic argument\n",
    "Console.WriteLine(genericArgument); // Output: System.String"
   ]
  },
  {
   "attachments": {},
   "cell_type": "markdown",
   "metadata": {},
   "source": [
    "## Create a generyc type using Activator and unbound type"
   ]
  },
  {
   "cell_type": "code",
   "execution_count": 4,
   "metadata": {
    "dotnet_interactive": {
     "language": "csharp"
    },
    "polyglot_notebook": {
     "kernelName": "csharp"
    },
    "vscode": {
     "languageId": "polyglot-notebook"
    }
   },
   "outputs": [],
   "source": [
    "Type genericType = typeof(Dictionary<,>); // Get the Type object of Dictionary<TKey, TValue>\n",
    "Type[] typeArguments = { typeof(string), typeof(int) }; // Specify the type arguments\n",
    "Type constructedType = genericType.MakeGenericType(typeArguments); // Create the constructed type\n",
    "object instance = Activator.CreateInstance(constructedType); // Create an instance of the constructed type\n",
    "Dictionary<string, int> dictionary = (Dictionary<string, int>)instance; // Cast the instance to the appropriate type\n",
    "dictionary.Add(\"Test\", 1);"
   ]
  },
  {
   "attachments": {},
   "cell_type": "markdown",
   "metadata": {},
   "source": [
    "### Using assembly and reflection"
   ]
  },
  {
   "cell_type": "code",
   "execution_count": 11,
   "metadata": {
    "vscode": {
     "languageId": "polyglot-notebook"
    }
   },
   "outputs": [
    {
     "ename": "Error",
     "evalue": "(9,1): error CS7021: Cannot declare namespace in script code",
     "output_type": "error",
     "traceback": [
      "(9,1): error CS7021: Cannot declare namespace in script code"
     ]
    }
   ],
   "source": [
    "using System.Reflection;\n",
    "\n",
    "Assembly assembly = Assembly.GetExecutingAssembly(); // Get the current executing assembly\n",
    "// Type genericType = assembly.GetType(\"MyNamespace.MyGenericClass`1\"); // Get the Type object of a generic class using its name\n",
    "// Type closedType = genericType.MakeGenericType(typeof(int)); // Represents a closed generic type by providing a type argument\n",
    "// object instance = Activator.CreateInstance(closedType); // Create an instance of the closed generic type"
   ]
  },
  {
   "attachments": {},
   "cell_type": "markdown",
   "metadata": {},
   "source": [
    "## Create a generic event"
   ]
  },
  {
   "cell_type": "code",
   "execution_count": 13,
   "metadata": {
    "dotnet_interactive": {
     "language": "csharp"
    },
    "polyglot_notebook": {
     "kernelName": "csharp"
    },
    "vscode": {
     "languageId": "polyglot-notebook"
    }
   },
   "outputs": [
    {
     "name": "stdout",
     "output_type": "stream",
     "text": [
      "Event triggered! Event Data: Event Data\r\n"
     ]
    }
   ],
   "source": [
    "public class EventPublisher<T>\n",
    "{\n",
    "    public event EventHandler<T> MyEvent;\n",
    "\n",
    "    public void TriggerEvent(T eventData)\n",
    "    {\n",
    "        MyEvent?.Invoke(this, eventData);\n",
    "    }\n",
    "}\n",
    "\n",
    "Type eventPublisherType = typeof(EventPublisher<>);\n",
    "Type[] typeArguments = { typeof(string) };\n",
    "Type closedType = eventPublisherType.MakeGenericType(typeArguments);\n",
    "\n",
    "// Create an instance of the closed generic type\n",
    "object instance = Activator.CreateInstance(closedType);\n",
    "\n",
    "// Get the MyEvent event\n",
    "EventInfo myEvent = closedType.GetEvent(\"MyEvent\");\n",
    "\n",
    "// Create an event handler method\n",
    "MethodInfo eventHandlerMethod = typeof(Program).GetMethod(\"MyEventHandler\");\n",
    "\n",
    "// Create a delegate for the event handler method\n",
    "Delegate eventHandler = Delegate.CreateDelegate(myEvent.EventHandlerType, null, eventHandlerMethod);\n",
    "\n",
    "// Add the event handler to the event\n",
    "myEvent.AddEventHandler(instance, eventHandler);\n",
    "\n",
    "// Trigger the event\n",
    "MethodInfo triggerEventMethod = closedType.GetMethod(\"TriggerEvent\");\n",
    "triggerEventMethod.Invoke(instance, new object[] { \"Event Data\" });\n",
    "\n",
    "public class Program \n",
    "{\n",
    "    public static void MyEventHandler(object sender, string eventData)\n",
    "    {\n",
    "        Console.WriteLine($\"Event triggered! Event Data: {eventData}\");\n",
    "    }\n",
    "}\n"
   ]
  }
 ],
 "metadata": {
  "language_info": {
   "name": "python"
  },
  "orig_nbformat": 4
 },
 "nbformat": 4,
 "nbformat_minor": 2
}
