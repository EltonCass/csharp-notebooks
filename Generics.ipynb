{
 "cells": [
  {
   "attachments": {},
   "cell_type": "markdown",
   "metadata": {},
   "source": [
    "# Generics"
   ]
  },
  {
   "cell_type": "code",
   "execution_count": 11,
   "metadata": {
    "dotnet_interactive": {
     "language": "csharp"
    },
    "polyglot_notebook": {
     "kernelName": "csharp"
    },
    "vscode": {
     "languageId": "polyglot-notebook"
    }
   },
   "outputs": [],
   "source": [
    "public class Repository<T>\n",
    "{\n",
    "    private List<T> items = new List<T>();\n",
    "\n",
    "    public void Add(T item)\n",
    "    {\n",
    "        items.Add(item);\n",
    "        Console.WriteLine(\"Item added to the repository.\");\n",
    "    }\n",
    "\n",
    "    public void Remove(T item)\n",
    "    {\n",
    "        items.Remove(item);\n",
    "        Console.WriteLine(\"Item removed from the repository.\");\n",
    "    }\n",
    "\n",
    "    public void PrintAll()\n",
    "    {\n",
    "        foreach (var item in items)\n",
    "        {\n",
    "            Console.WriteLine(item.ToString());\n",
    "        }\n",
    "    }\n",
    "}"
   ]
  },
  {
   "attachments": {},
   "cell_type": "markdown",
   "metadata": {},
   "source": [
    "## Generic method"
   ]
  },
  {
   "cell_type": "code",
   "execution_count": 12,
   "metadata": {
    "dotnet_interactive": {
     "language": "csharp"
    },
    "polyglot_notebook": {
     "kernelName": "csharp"
    },
    "vscode": {
     "languageId": "polyglot-notebook"
    }
   },
   "outputs": [],
   "source": [
    "public static void Swap<T>(ref T a, ref T b)\n",
    "{\n",
    "    T temp = a;\n",
    "    a = b;\n",
    "    b = temp;\n",
    "}"
   ]
  },
  {
   "attachments": {},
   "cell_type": "markdown",
   "metadata": {},
   "source": [
    "## Generic interface"
   ]
  },
  {
   "cell_type": "code",
   "execution_count": 13,
   "metadata": {
    "dotnet_interactive": {
     "language": "csharp"
    },
    "polyglot_notebook": {
     "kernelName": "csharp"
    },
    "vscode": {
     "languageId": "polyglot-notebook"
    }
   },
   "outputs": [],
   "source": [
    "public interface IRepository<TKey, TValue> where TKey : IComparable<TKey>\n",
    "{\n",
    "    TValue GetByKey(TKey key);\n",
    "    void Add(TKey key, TValue value);\n",
    "    void Remove(TKey key);\n",
    "    void PrintAll();\n",
    "}"
   ]
  },
  {
   "attachments": {},
   "cell_type": "markdown",
   "metadata": {},
   "source": [
    "### Some Built in generic interfaces"
   ]
  },
  {
   "cell_type": "code",
   "execution_count": 14,
   "metadata": {
    "dotnet_interactive": {
     "language": "csharp"
    },
    "polyglot_notebook": {
     "kernelName": "csharp"
    },
    "vscode": {
     "languageId": "polyglot-notebook"
    }
   },
   "outputs": [
    {
     "name": "stdout",
     "output_type": "stream",
     "text": [
      "1\n",
      "2\n",
      "3\n",
      "4\n",
      "5\n"
     ]
    }
   ],
   "source": [
    "IEnumerable<int> numbers = new List<int> { 1, 2, 3, 4, 5 };\n",
    "foreach (int number in numbers)\n",
    "{\n",
    "    Console.WriteLine(number);\n",
    "}"
   ]
  },
  {
   "cell_type": "code",
   "execution_count": 15,
   "metadata": {
    "dotnet_interactive": {
     "language": "csharp"
    },
    "polyglot_notebook": {
     "kernelName": "csharp"
    },
    "vscode": {
     "languageId": "polyglot-notebook"
    }
   },
   "outputs": [
    {
     "name": "stdout",
     "output_type": "stream",
     "text": [
      "1\r\n"
     ]
    }
   ],
   "source": [
    "ICollection<string> names = new List<string>();\n",
    "names.Add(\"John\");\n",
    "names.Add(\"Jane\");\n",
    "names.Remove(\"John\");\n",
    "Console.WriteLine(names.Count);"
   ]
  },
  {
   "cell_type": "code",
   "execution_count": 16,
   "metadata": {
    "dotnet_interactive": {
     "language": "csharp"
    },
    "polyglot_notebook": {
     "kernelName": "csharp"
    },
    "vscode": {
     "languageId": "polyglot-notebook"
    }
   },
   "outputs": [
    {
     "name": "stdout",
     "output_type": "stream",
     "text": [
      "88.9\r\n"
     ]
    }
   ],
   "source": [
    "IList<double> grades = new List<double> { 90.5, 85.2, 92.7 };\n",
    "grades.Insert(1, 88.9);\n",
    "double secondGrade = grades[1];\n",
    "Console.WriteLine(secondGrade);"
   ]
  },
  {
   "attachments": {},
   "cell_type": "markdown",
   "metadata": {},
   "source": [
    "## Constraints"
   ]
  },
  {
   "cell_type": "code",
   "execution_count": 20,
   "metadata": {
    "dotnet_interactive": {
     "language": "csharp"
    },
    "polyglot_notebook": {
     "kernelName": "csharp"
    },
    "vscode": {
     "languageId": "polyglot-notebook"
    }
   },
   "outputs": [],
   "source": [
    "// public interface IRepository<T> : IDisposable\n",
    "// {\n",
    "// \tvoid Add(T newEntity);\n",
    "// }\n",
    "\n",
    "// public class SqlRepository<T> : IRepository<T> where T : class, IEntity\n",
    "// {\n",
    "// \tDbContext _ctx;\n",
    "//     DbSet<T> _set;\n",
    "    \n",
    "//     public SqlRepository(DbContext ctx)\n",
    "//     {\n",
    "//     \t_ctx = ctx;\n",
    "//         _set = _ctx.Set<T>();\n",
    "//     }\n",
    "\n",
    "// \tpublic void Add(T newEntity)\n",
    "//     {\n",
    "//     \tif(newEntity.IsValid())\n",
    "//         {\n",
    "//         \t_set.Add(newEntity);\n",
    "//         }\n",
    "//     }\n",
    "// }"
   ]
  },
  {
   "cell_type": "code",
   "execution_count": 25,
   "metadata": {
    "dotnet_interactive": {
     "language": "csharp"
    },
    "polyglot_notebook": {
     "kernelName": "csharp"
    },
    "vscode": {
     "languageId": "polyglot-notebook"
    }
   },
   "outputs": [
    {
     "name": "stdout",
     "output_type": "stream",
     "text": [
      "Hello, world!\n",
      "Hello, world!\n"
     ]
    }
   ],
   "source": [
    "public interface ILogger\n",
    "{\n",
    "    void Log(string message);\n",
    "}\n",
    "\n",
    "public class Logger<T> where T : ILogger\n",
    "{\n",
    "    private T logger;\n",
    "\n",
    "    public Logger(T logger)\n",
    "    {\n",
    "        this.logger = logger;\n",
    "    }\n",
    "\n",
    "    public void LogMessage(string message)\n",
    "    {\n",
    "        logger.Log(message);\n",
    "    }\n",
    "}\n",
    "\n",
    "public struct ConsoleLogger : ILogger\n",
    "{\n",
    "    public void Log(string message)\n",
    "    {\n",
    "        Console.WriteLine(message);\n",
    "    }\n",
    "}\n",
    "\n",
    "Logger<ConsoleLogger> logger = new Logger<ConsoleLogger>(new ConsoleLogger());\n",
    "logger.LogMessage(\"Hello, world!\");\n",
    "\n",
    "var logger2 = new ConsoleLogger();\n",
    "logger.LogMessage(\"Hello, world!\");"
   ]
  }
 ],
 "metadata": {
  "language_info": {
   "name": "python"
  },
  "orig_nbformat": 4
 },
 "nbformat": 4,
 "nbformat_minor": 2
}
